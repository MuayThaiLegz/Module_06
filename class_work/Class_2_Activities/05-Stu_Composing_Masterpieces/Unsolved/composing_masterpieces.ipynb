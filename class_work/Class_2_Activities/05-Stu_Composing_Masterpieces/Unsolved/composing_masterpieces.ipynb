{
 "cells": [
  {
   "cell_type": "markdown",
   "metadata": {},
   "source": [
    "# Composing Masterpieces\n",
    "\n",
    "In your role as a data analyst for a video streaming service, you have been asked by your manager to compare and contrast the subscriber data for various international regions over the last several years. \n",
    "\n",
    "Use your knowledge of compose and overlay plots to create visualizations to gather the data requested by your manager. "
   ]
  },
  {
   "cell_type": "code",
   "execution_count": 39,
   "metadata": {},
   "outputs": [],
   "source": [
    "# Import the required libraries and dependencies\n",
    "import pandas as pd\n",
    "import hvplot.pandas\n",
    "from pathlib import Path\n",
    "import numpy as np\n",
    "import holoviews as hv\n",
    "from holoviews import dim, opts\n"
   ]
  },
  {
   "cell_type": "markdown",
   "metadata": {},
   "source": [
    "## Step 1: Prepare the Subscriber Numbers DataFrame"
   ]
  },
  {
   "cell_type": "code",
   "execution_count": 40,
   "metadata": {},
   "outputs": [],
   "source": [
    "# Read in subscriber_numbers.csv file into a Pandas DataFrame\n",
    "subscribers_df = pd.read_csv(\n",
    "    Path('../Resources/subscriber_numbers.csv')\n",
    ").dropna()\n",
    "\n",
    "# Review the DataFrame\n",
    "# YOUR CODE HERE"
   ]
  },
  {
   "cell_type": "code",
   "execution_count": 45,
   "metadata": {},
   "outputs": [
    {
     "data": {
      "text/html": [
       "<div>\n",
       "<style scoped>\n",
       "    .dataframe tbody tr th:only-of-type {\n",
       "        vertical-align: middle;\n",
       "    }\n",
       "\n",
       "    .dataframe tbody tr th {\n",
       "        vertical-align: top;\n",
       "    }\n",
       "\n",
       "    .dataframe thead th {\n",
       "        text-align: right;\n",
       "    }\n",
       "</style>\n",
       "<table border=\"1\" class=\"dataframe\">\n",
       "  <thead>\n",
       "    <tr style=\"text-align: right;\">\n",
       "      <th></th>\n",
       "      <th>Area</th>\n",
       "      <th>Years</th>\n",
       "      <th>Subscribers</th>\n",
       "    </tr>\n",
       "  </thead>\n",
       "  <tbody>\n",
       "    <tr>\n",
       "      <th>0</th>\n",
       "      <td>United States and Canada</td>\n",
       "      <td>Q1 - 2018</td>\n",
       "      <td>60909000</td>\n",
       "    </tr>\n",
       "    <tr>\n",
       "      <th>1</th>\n",
       "      <td>Europe, Middle East and Africa</td>\n",
       "      <td>Q1 - 2018</td>\n",
       "      <td>29339000</td>\n",
       "    </tr>\n",
       "    <tr>\n",
       "      <th>2</th>\n",
       "      <td>Latin America</td>\n",
       "      <td>Q1 - 2018</td>\n",
       "      <td>21260000</td>\n",
       "    </tr>\n",
       "    <tr>\n",
       "      <th>3</th>\n",
       "      <td>Asia-Pacific</td>\n",
       "      <td>Q1 - 2018</td>\n",
       "      <td>7394000</td>\n",
       "    </tr>\n",
       "    <tr>\n",
       "      <th>4</th>\n",
       "      <td>United States and Canada</td>\n",
       "      <td>Q2 - 2018</td>\n",
       "      <td>61870000</td>\n",
       "    </tr>\n",
       "  </tbody>\n",
       "</table>\n",
       "</div>"
      ],
      "text/plain": [
       "                             Area      Years  Subscribers\n",
       "0        United States and Canada  Q1 - 2018     60909000\n",
       "1  Europe, Middle East and Africa  Q1 - 2018     29339000\n",
       "2                   Latin America  Q1 - 2018     21260000\n",
       "3                    Asia-Pacific  Q1 - 2018      7394000\n",
       "4        United States and Canada  Q2 - 2018     61870000"
      ]
     },
     "execution_count": 45,
     "metadata": {},
     "output_type": "execute_result"
    }
   ],
   "source": [
    "subscribers_df.head()"
   ]
  },
  {
   "cell_type": "code",
   "execution_count": 4,
   "metadata": {},
   "outputs": [
    {
     "data": {
      "text/html": [
       "<div>\n",
       "<style scoped>\n",
       "    .dataframe tbody tr th:only-of-type {\n",
       "        vertical-align: middle;\n",
       "    }\n",
       "\n",
       "    .dataframe tbody tr th {\n",
       "        vertical-align: top;\n",
       "    }\n",
       "\n",
       "    .dataframe thead th {\n",
       "        text-align: right;\n",
       "    }\n",
       "</style>\n",
       "<table border=\"1\" class=\"dataframe\">\n",
       "  <thead>\n",
       "    <tr style=\"text-align: right;\">\n",
       "      <th></th>\n",
       "      <th>Area</th>\n",
       "      <th>Years</th>\n",
       "      <th>Subscribers</th>\n",
       "    </tr>\n",
       "  </thead>\n",
       "  <tbody>\n",
       "    <tr>\n",
       "      <th>0</th>\n",
       "      <td>United States and Canada</td>\n",
       "      <td>Q1 - 2018</td>\n",
       "      <td>60909000</td>\n",
       "    </tr>\n",
       "    <tr>\n",
       "      <th>1</th>\n",
       "      <td>Europe, Middle East and Africa</td>\n",
       "      <td>Q1 - 2018</td>\n",
       "      <td>29339000</td>\n",
       "    </tr>\n",
       "    <tr>\n",
       "      <th>2</th>\n",
       "      <td>Latin America</td>\n",
       "      <td>Q1 - 2018</td>\n",
       "      <td>21260000</td>\n",
       "    </tr>\n",
       "    <tr>\n",
       "      <th>3</th>\n",
       "      <td>Asia-Pacific</td>\n",
       "      <td>Q1 - 2018</td>\n",
       "      <td>7394000</td>\n",
       "    </tr>\n",
       "    <tr>\n",
       "      <th>4</th>\n",
       "      <td>United States and Canada</td>\n",
       "      <td>Q2 - 2018</td>\n",
       "      <td>61870000</td>\n",
       "    </tr>\n",
       "  </tbody>\n",
       "</table>\n",
       "</div>"
      ],
      "text/plain": [
       "                             Area      Years  Subscribers\n",
       "0        United States and Canada  Q1 - 2018     60909000\n",
       "1  Europe, Middle East and Africa  Q1 - 2018     29339000\n",
       "2                   Latin America  Q1 - 2018     21260000\n",
       "3                    Asia-Pacific  Q1 - 2018      7394000\n",
       "4        United States and Canada  Q2 - 2018     61870000"
      ]
     },
     "metadata": {},
     "output_type": "display_data"
    }
   ],
   "source": [
    "display(subscribers_df.head())"
   ]
  },
  {
   "cell_type": "code",
   "execution_count": 5,
   "metadata": {},
   "outputs": [
    {
     "data": {
      "text/html": [
       "<div>\n",
       "<style scoped>\n",
       "    .dataframe tbody tr th:only-of-type {\n",
       "        vertical-align: middle;\n",
       "    }\n",
       "\n",
       "    .dataframe tbody tr th {\n",
       "        vertical-align: top;\n",
       "    }\n",
       "\n",
       "    .dataframe thead th {\n",
       "        text-align: right;\n",
       "    }\n",
       "</style>\n",
       "<table border=\"1\" class=\"dataframe\">\n",
       "  <thead>\n",
       "    <tr style=\"text-align: right;\">\n",
       "      <th></th>\n",
       "      <th>Area</th>\n",
       "      <th>Years</th>\n",
       "      <th>Subscribers</th>\n",
       "    </tr>\n",
       "  </thead>\n",
       "  <tbody>\n",
       "    <tr>\n",
       "      <th>35</th>\n",
       "      <td>Asia-Pacific</td>\n",
       "      <td>Q1 - 2020</td>\n",
       "      <td>19835000</td>\n",
       "    </tr>\n",
       "    <tr>\n",
       "      <th>36</th>\n",
       "      <td>United States and Canada</td>\n",
       "      <td>Q2 - 2020</td>\n",
       "      <td>72904000</td>\n",
       "    </tr>\n",
       "    <tr>\n",
       "      <th>37</th>\n",
       "      <td>Europe, Middle East and Africa</td>\n",
       "      <td>Q2 - 2020</td>\n",
       "      <td>61483000</td>\n",
       "    </tr>\n",
       "    <tr>\n",
       "      <th>38</th>\n",
       "      <td>Latin America</td>\n",
       "      <td>Q2 - 2020</td>\n",
       "      <td>36068000</td>\n",
       "    </tr>\n",
       "    <tr>\n",
       "      <th>39</th>\n",
       "      <td>Asia-Pacific</td>\n",
       "      <td>Q2 - 2020</td>\n",
       "      <td>22492000</td>\n",
       "    </tr>\n",
       "  </tbody>\n",
       "</table>\n",
       "</div>"
      ],
      "text/plain": [
       "                              Area      Years  Subscribers\n",
       "35                    Asia-Pacific  Q1 - 2020     19835000\n",
       "36        United States and Canada  Q2 - 2020     72904000\n",
       "37  Europe, Middle East and Africa  Q2 - 2020     61483000\n",
       "38                   Latin America  Q2 - 2020     36068000\n",
       "39                    Asia-Pacific  Q2 - 2020     22492000"
      ]
     },
     "metadata": {},
     "output_type": "display_data"
    }
   ],
   "source": [
    "display(subscribers_df.tail())"
   ]
  },
  {
   "cell_type": "markdown",
   "metadata": {},
   "source": [
    "## Step 2: Using both a compose plot and and overlay plot, compare the subscriber numbers for each region for the periods \"Q1 - 2018\", \"Q1 - 2019\", and \"Q1-2020\"."
   ]
  },
  {
   "cell_type": "code",
   "execution_count": 6,
   "metadata": {},
   "outputs": [
    {
     "data": {
      "text/html": [
       "<div>\n",
       "<style scoped>\n",
       "    .dataframe tbody tr th:only-of-type {\n",
       "        vertical-align: middle;\n",
       "    }\n",
       "\n",
       "    .dataframe tbody tr th {\n",
       "        vertical-align: top;\n",
       "    }\n",
       "\n",
       "    .dataframe thead th {\n",
       "        text-align: right;\n",
       "    }\n",
       "</style>\n",
       "<table border=\"1\" class=\"dataframe\">\n",
       "  <thead>\n",
       "    <tr style=\"text-align: right;\">\n",
       "      <th></th>\n",
       "      <th>Area</th>\n",
       "      <th>Years</th>\n",
       "      <th>Subscribers</th>\n",
       "    </tr>\n",
       "  </thead>\n",
       "  <tbody>\n",
       "    <tr>\n",
       "      <th>0</th>\n",
       "      <td>United States and Canada</td>\n",
       "      <td>Q1 - 2018</td>\n",
       "      <td>60909000</td>\n",
       "    </tr>\n",
       "    <tr>\n",
       "      <th>1</th>\n",
       "      <td>Europe, Middle East and Africa</td>\n",
       "      <td>Q1 - 2018</td>\n",
       "      <td>29339000</td>\n",
       "    </tr>\n",
       "    <tr>\n",
       "      <th>2</th>\n",
       "      <td>Latin America</td>\n",
       "      <td>Q1 - 2018</td>\n",
       "      <td>21260000</td>\n",
       "    </tr>\n",
       "    <tr>\n",
       "      <th>3</th>\n",
       "      <td>Asia-Pacific</td>\n",
       "      <td>Q1 - 2018</td>\n",
       "      <td>7394000</td>\n",
       "    </tr>\n",
       "  </tbody>\n",
       "</table>\n",
       "</div>"
      ],
      "text/plain": [
       "                             Area      Years  Subscribers\n",
       "0        United States and Canada  Q1 - 2018     60909000\n",
       "1  Europe, Middle East and Africa  Q1 - 2018     29339000\n",
       "2                   Latin America  Q1 - 2018     21260000\n",
       "3                    Asia-Pacific  Q1 - 2018      7394000"
      ]
     },
     "execution_count": 6,
     "metadata": {},
     "output_type": "execute_result"
    }
   ],
   "source": [
    "# Create a DataFrame that slices the subscriber data for Q1 - 2018.\n",
    "q1_2018 = subscribers_df.query('Years ==  \"Q1 - 2018\"')\n",
    "q1_2018"
   ]
  },
  {
   "cell_type": "code",
   "execution_count": 42,
   "metadata": {},
   "outputs": [
    {
     "ename": "KeyError",
     "evalue": "\"None of ['Area'] are in the columns\"",
     "output_type": "error",
     "traceback": [
      "\u001b[1;31m---------------------------------------------------------------------------\u001b[0m",
      "\u001b[1;31mKeyError\u001b[0m                                  Traceback (most recent call last)",
      "\u001b[1;32m<ipython-input-42-c0af970f26e8>\u001b[0m in \u001b[0;36m<module>\u001b[1;34m\u001b[0m\n\u001b[0;32m      1\u001b[0m \u001b[1;31m# Set the index of the DataFrame to Area\u001b[0m\u001b[1;33m\u001b[0m\u001b[1;33m\u001b[0m\u001b[1;33m\u001b[0m\u001b[0m\n\u001b[1;32m----> 2\u001b[1;33m \u001b[0mq1_2018\u001b[0m \u001b[1;33m=\u001b[0m \u001b[0mq1_2018\u001b[0m\u001b[1;33m.\u001b[0m\u001b[0mset_index\u001b[0m\u001b[1;33m(\u001b[0m\u001b[1;34m\"Area\"\u001b[0m\u001b[1;33m)\u001b[0m\u001b[1;33m\u001b[0m\u001b[1;33m\u001b[0m\u001b[0m\n\u001b[0m",
      "\u001b[1;32m~\\anaconda3\\envs\\dev\\lib\\site-packages\\pandas\\core\\frame.py\u001b[0m in \u001b[0;36mset_index\u001b[1;34m(self, keys, drop, append, inplace, verify_integrity)\u001b[0m\n\u001b[0;32m   4549\u001b[0m \u001b[1;33m\u001b[0m\u001b[0m\n\u001b[0;32m   4550\u001b[0m         \u001b[1;32mif\u001b[0m \u001b[0mmissing\u001b[0m\u001b[1;33m:\u001b[0m\u001b[1;33m\u001b[0m\u001b[1;33m\u001b[0m\u001b[0m\n\u001b[1;32m-> 4551\u001b[1;33m             \u001b[1;32mraise\u001b[0m \u001b[0mKeyError\u001b[0m\u001b[1;33m(\u001b[0m\u001b[1;34mf\"None of {missing} are in the columns\"\u001b[0m\u001b[1;33m)\u001b[0m\u001b[1;33m\u001b[0m\u001b[1;33m\u001b[0m\u001b[0m\n\u001b[0m\u001b[0;32m   4552\u001b[0m \u001b[1;33m\u001b[0m\u001b[0m\n\u001b[0;32m   4553\u001b[0m         \u001b[1;32mif\u001b[0m \u001b[0minplace\u001b[0m\u001b[1;33m:\u001b[0m\u001b[1;33m\u001b[0m\u001b[1;33m\u001b[0m\u001b[0m\n",
      "\u001b[1;31mKeyError\u001b[0m: \"None of ['Area'] are in the columns\""
     ]
    }
   ],
   "source": [
    "# Set the index of the DataFrame to Area\n",
    "q1_2018 = q1_2018.set_index(\"Area\")"
   ]
  },
  {
   "cell_type": "code",
   "execution_count": 17,
   "metadata": {},
   "outputs": [
    {
     "data": {
      "text/html": [
       "<div>\n",
       "<style scoped>\n",
       "    .dataframe tbody tr th:only-of-type {\n",
       "        vertical-align: middle;\n",
       "    }\n",
       "\n",
       "    .dataframe tbody tr th {\n",
       "        vertical-align: top;\n",
       "    }\n",
       "\n",
       "    .dataframe thead th {\n",
       "        text-align: right;\n",
       "    }\n",
       "</style>\n",
       "<table border=\"1\" class=\"dataframe\">\n",
       "  <thead>\n",
       "    <tr style=\"text-align: right;\">\n",
       "      <th></th>\n",
       "      <th>Years</th>\n",
       "      <th>Subscribers</th>\n",
       "    </tr>\n",
       "    <tr>\n",
       "      <th>Area</th>\n",
       "      <th></th>\n",
       "      <th></th>\n",
       "    </tr>\n",
       "  </thead>\n",
       "  <tbody>\n",
       "    <tr>\n",
       "      <th>United States and Canada</th>\n",
       "      <td>Q1 - 2018</td>\n",
       "      <td>60909000</td>\n",
       "    </tr>\n",
       "    <tr>\n",
       "      <th>Europe, Middle East and Africa</th>\n",
       "      <td>Q1 - 2018</td>\n",
       "      <td>29339000</td>\n",
       "    </tr>\n",
       "    <tr>\n",
       "      <th>Latin America</th>\n",
       "      <td>Q1 - 2018</td>\n",
       "      <td>21260000</td>\n",
       "    </tr>\n",
       "    <tr>\n",
       "      <th>Asia-Pacific</th>\n",
       "      <td>Q1 - 2018</td>\n",
       "      <td>7394000</td>\n",
       "    </tr>\n",
       "  </tbody>\n",
       "</table>\n",
       "</div>"
      ],
      "text/plain": [
       "                                    Years  Subscribers\n",
       "Area                                                  \n",
       "United States and Canada        Q1 - 2018     60909000\n",
       "Europe, Middle East and Africa  Q1 - 2018     29339000\n",
       "Latin America                   Q1 - 2018     21260000\n",
       "Asia-Pacific                    Q1 - 2018      7394000"
      ]
     },
     "execution_count": 17,
     "metadata": {},
     "output_type": "execute_result"
    }
   ],
   "source": [
    "q1_2018"
   ]
  },
  {
   "cell_type": "code",
   "execution_count": 51,
   "metadata": {},
   "outputs": [
    {
     "data": {},
     "metadata": {},
     "output_type": "display_data"
    },
    {
     "data": {
      "application/vnd.holoviews_exec.v0+json": "",
      "text/html": [
       "<div id='1821'>\n",
       "\n",
       "\n",
       "\n",
       "\n",
       "\n",
       "  <div class=\"bk-root\" id=\"21e5b6ca-b44d-4c4e-ad46-8044f89a25f1\" data-root-id=\"1821\"></div>\n",
       "</div>\n",
       "<script type=\"application/javascript\">(function(root) {\n",
       "  function embed_document(root) {\n",
       "    var docs_json = {\"eae14509-a89b-4262-ac36-e90f0bbb38cb\":{\"roots\":{\"references\":[{\"attributes\":{},\"id\":\"1833\",\"type\":\"LinearScale\"},{\"attributes\":{\"margin\":[5,5,5,5],\"name\":\"HSpacer02944\",\"sizing_mode\":\"stretch_width\"},\"id\":\"1822\",\"type\":\"Spacer\"},{\"attributes\":{\"fill_alpha\":{\"value\":0.1},\"fill_color\":{\"value\":\"#1f77b3\"},\"line_alpha\":{\"value\":0.1},\"top\":{\"field\":\"Subscribers\"},\"width\":{\"value\":0.8},\"x\":{\"field\":\"Area\"}},\"id\":\"1859\",\"type\":\"VBar\"},{\"attributes\":{},\"id\":\"1836\",\"type\":\"CategoricalTicker\"},{\"attributes\":{\"margin\":[5,5,5,5],\"name\":\"HSpacer02945\",\"sizing_mode\":\"stretch_width\"},\"id\":\"1883\",\"type\":\"Spacer\"},{\"attributes\":{\"axis\":{\"id\":\"1835\"},\"grid_line_color\":null,\"ticker\":null},\"id\":\"1837\",\"type\":\"Grid\"},{\"attributes\":{\"data_source\":{\"id\":\"1855\"},\"glyph\":{\"id\":\"1858\"},\"hover_glyph\":null,\"muted_glyph\":{\"id\":\"1860\"},\"nonselection_glyph\":{\"id\":\"1859\"},\"selection_glyph\":null,\"view\":{\"id\":\"1862\"}},\"id\":\"1861\",\"type\":\"GlyphRenderer\"},{\"attributes\":{\"axis_label\":\"Area\",\"bounds\":\"auto\",\"formatter\":{\"id\":\"1863\"},\"major_label_orientation\":\"horizontal\",\"ticker\":{\"id\":\"1836\"}},\"id\":\"1835\",\"type\":\"CategoricalAxis\"},{\"attributes\":{\"source\":{\"id\":\"1855\"}},\"id\":\"1862\",\"type\":\"CDSView\"},{\"attributes\":{},\"id\":\"1866\",\"type\":\"BasicTickFormatter\"},{\"attributes\":{\"axis_label\":\"Subscribers\",\"bounds\":\"auto\",\"formatter\":{\"id\":\"1866\"},\"major_label_orientation\":\"horizontal\",\"ticker\":{\"id\":\"1839\"}},\"id\":\"1838\",\"type\":\"LinearAxis\"},{\"attributes\":{},\"id\":\"1856\",\"type\":\"Selection\"},{\"attributes\":{\"callback\":null,\"renderers\":[{\"id\":\"1861\"}],\"tags\":[\"hv_created\"],\"tooltips\":[[\"Area\",\"@{Area}\"],[\"Subscribers\",\"@{Subscribers}\"]]},\"id\":\"1825\",\"type\":\"HoverTool\"},{\"attributes\":{},\"id\":\"1839\",\"type\":\"BasicTicker\"},{\"attributes\":{\"axis\":{\"id\":\"1838\"},\"dimension\":1,\"grid_line_color\":null,\"ticker\":null},\"id\":\"1841\",\"type\":\"Grid\"},{\"attributes\":{\"fill_alpha\":{\"value\":0.2},\"fill_color\":{\"value\":\"#1f77b3\"},\"line_alpha\":{\"value\":0.2},\"top\":{\"field\":\"Subscribers\"},\"width\":{\"value\":0.8},\"x\":{\"field\":\"Area\"}},\"id\":\"1860\",\"type\":\"VBar\"},{\"attributes\":{\"bottom_units\":\"screen\",\"fill_alpha\":0.5,\"fill_color\":\"lightgrey\",\"left_units\":\"screen\",\"level\":\"overlay\",\"line_alpha\":1.0,\"line_color\":\"black\",\"line_dash\":[4,4],\"line_width\":2,\"right_units\":\"screen\",\"top_units\":\"screen\"},\"id\":\"1847\",\"type\":\"BoxAnnotation\"},{\"attributes\":{\"text\":\"Q1 - 2018 data\",\"text_color\":{\"value\":\"black\"},\"text_font_size\":{\"value\":\"12pt\"}},\"id\":\"1827\",\"type\":\"Title\"},{\"attributes\":{},\"id\":\"1863\",\"type\":\"CategoricalTickFormatter\"},{\"attributes\":{\"below\":[{\"id\":\"1835\"}],\"center\":[{\"id\":\"1837\"},{\"id\":\"1841\"}],\"left\":[{\"id\":\"1838\"}],\"margin\":[5,5,5,5],\"min_border_bottom\":10,\"min_border_left\":10,\"min_border_right\":10,\"min_border_top\":10,\"plot_height\":300,\"plot_width\":700,\"renderers\":[{\"id\":\"1861\"}],\"sizing_mode\":\"fixed\",\"title\":{\"id\":\"1827\"},\"toolbar\":{\"id\":\"1848\"},\"x_range\":{\"id\":\"1823\"},\"x_scale\":{\"id\":\"1831\"},\"y_range\":{\"id\":\"1824\"},\"y_scale\":{\"id\":\"1833\"}},\"id\":\"1826\",\"subtype\":\"Figure\",\"type\":\"Plot\"},{\"attributes\":{\"end\":66260500.0,\"reset_end\":66260500.0,\"reset_start\":0.0,\"tags\":[[[\"Subscribers\",\"Subscribers\",null]]]},\"id\":\"1824\",\"type\":\"Range1d\"},{\"attributes\":{\"data\":{\"Area\":[\"United States and Canada\",\"Europe, Middle East and Africa\",\"Latin America\",\"Asia-Pacific\"],\"Subscribers\":[60909000,29339000,21260000,7394000]},\"selected\":{\"id\":\"1856\"},\"selection_policy\":{\"id\":\"1873\"}},\"id\":\"1855\",\"type\":\"ColumnDataSource\"},{\"attributes\":{\"fill_color\":{\"value\":\"#1f77b3\"},\"top\":{\"field\":\"Subscribers\"},\"width\":{\"value\":0.8},\"x\":{\"field\":\"Area\"}},\"id\":\"1858\",\"type\":\"VBar\"},{\"attributes\":{\"factors\":[\"United States and Canada\",\"Europe, Middle East and Africa\",\"Latin America\",\"Asia-Pacific\"],\"tags\":[[[\"Area\",\"Area\",null]]]},\"id\":\"1823\",\"type\":\"FactorRange\"},{\"attributes\":{},\"id\":\"1842\",\"type\":\"SaveTool\"},{\"attributes\":{},\"id\":\"1873\",\"type\":\"UnionRenderers\"},{\"attributes\":{},\"id\":\"1843\",\"type\":\"PanTool\"},{\"attributes\":{\"children\":[{\"id\":\"1822\"},{\"id\":\"1826\"},{\"id\":\"1883\"}],\"margin\":[0,0,0,0],\"name\":\"Row02940\",\"tags\":[\"embedded\"]},\"id\":\"1821\",\"type\":\"Row\"},{\"attributes\":{},\"id\":\"1846\",\"type\":\"ResetTool\"},{\"attributes\":{\"active_drag\":\"auto\",\"active_inspect\":\"auto\",\"active_multi\":null,\"active_scroll\":\"auto\",\"active_tap\":\"auto\",\"tools\":[{\"id\":\"1825\"},{\"id\":\"1842\"},{\"id\":\"1843\"},{\"id\":\"1844\"},{\"id\":\"1845\"},{\"id\":\"1846\"}]},\"id\":\"1848\",\"type\":\"Toolbar\"},{\"attributes\":{},\"id\":\"1844\",\"type\":\"WheelZoomTool\"},{\"attributes\":{},\"id\":\"1831\",\"type\":\"CategoricalScale\"},{\"attributes\":{\"overlay\":{\"id\":\"1847\"}},\"id\":\"1845\",\"type\":\"BoxZoomTool\"}],\"root_ids\":[\"1821\"]},\"title\":\"Bokeh Application\",\"version\":\"2.2.3\"}};\n",
       "    var render_items = [{\"docid\":\"eae14509-a89b-4262-ac36-e90f0bbb38cb\",\"root_ids\":[\"1821\"],\"roots\":{\"1821\":\"21e5b6ca-b44d-4c4e-ad46-8044f89a25f1\"}}];\n",
       "    root.Bokeh.embed.embed_items_notebook(docs_json, render_items);\n",
       "  }\n",
       "  if (root.Bokeh !== undefined && root.Bokeh.Panel !== undefined) {\n",
       "    embed_document(root);\n",
       "  } else {\n",
       "    var attempts = 0;\n",
       "    var timer = setInterval(function(root) {\n",
       "      if (root.Bokeh !== undefined && root.Bokeh.Panel !== undefined) {\n",
       "        clearInterval(timer);\n",
       "        embed_document(root);\n",
       "      } else if (document.readyState == \"complete\") {\n",
       "        attempts++;\n",
       "        if (attempts > 100) {\n",
       "          clearInterval(timer);\n",
       "          console.log(\"Bokeh: ERROR: Unable to run BokehJS code because BokehJS library is missing\");\n",
       "        }\n",
       "      }\n",
       "    }, 10, root)\n",
       "  }\n",
       "})(window);</script>"
      ],
      "text/plain": [
       ":Bars   [Area]   (Subscribers)"
      ]
     },
     "execution_count": 51,
     "metadata": {
      "application/vnd.holoviews_exec.v0+json": {
       "id": "1821"
      }
     },
     "output_type": "execute_result"
    }
   ],
   "source": [
    "# Create a bar chart of the Q1 - 2018 data\n",
    "q1_2018_plot = q1_2018.hvplot.bar( title=(\"  Q1 - 2018 data\")\n",
    ")\n",
    "\n",
    "# Show the bar chart\n",
    "q1_2018_plot"
   ]
  },
  {
   "cell_type": "code",
   "execution_count": 53,
   "metadata": {},
   "outputs": [
    {
     "data": {},
     "metadata": {},
     "output_type": "display_data"
    },
    {
     "data": {
      "application/vnd.holoviews_exec.v0+json": "",
      "text/html": [
       "<div id='2029'>\n",
       "\n",
       "\n",
       "\n",
       "\n",
       "\n",
       "  <div class=\"bk-root\" id=\"0a286b34-894a-4cd4-8405-48bc5fd5070d\" data-root-id=\"2029\"></div>\n",
       "</div>\n",
       "<script type=\"application/javascript\">(function(root) {\n",
       "  function embed_document(root) {\n",
       "    var docs_json = {\"6772d9d4-c27e-486f-9e92-b8b9ba29f3b7\":{\"roots\":{\"references\":[{\"attributes\":{\"bottom_units\":\"screen\",\"fill_alpha\":0.5,\"fill_color\":\"lightgrey\",\"left_units\":\"screen\",\"level\":\"overlay\",\"line_alpha\":1.0,\"line_color\":\"black\",\"line_dash\":[4,4],\"line_width\":2,\"right_units\":\"screen\",\"top_units\":\"screen\"},\"id\":\"2055\",\"type\":\"BoxAnnotation\"},{\"attributes\":{},\"id\":\"2081\",\"type\":\"UnionRenderers\"},{\"attributes\":{},\"id\":\"2071\",\"type\":\"CategoricalTickFormatter\"},{\"attributes\":{\"active_drag\":\"auto\",\"active_inspect\":\"auto\",\"active_multi\":null,\"active_scroll\":\"auto\",\"active_tap\":\"auto\",\"tools\":[{\"id\":\"2033\"},{\"id\":\"2050\"},{\"id\":\"2051\"},{\"id\":\"2052\"},{\"id\":\"2053\"},{\"id\":\"2054\"}]},\"id\":\"2056\",\"type\":\"Toolbar\"},{\"attributes\":{\"fill_alpha\":{\"value\":0.2},\"fill_color\":{\"value\":\"#1f77b3\"},\"line_alpha\":{\"value\":0.2},\"top\":{\"field\":\"Subscribers\"},\"width\":{\"value\":0.8},\"x\":{\"field\":\"Area\"}},\"id\":\"2068\",\"type\":\"VBar\"},{\"attributes\":{\"data_source\":{\"id\":\"2063\"},\"glyph\":{\"id\":\"2066\"},\"hover_glyph\":null,\"muted_glyph\":{\"id\":\"2068\"},\"nonselection_glyph\":{\"id\":\"2067\"},\"selection_glyph\":null,\"view\":{\"id\":\"2070\"}},\"id\":\"2069\",\"type\":\"GlyphRenderer\"},{\"attributes\":{\"text\":\"Q1 - 2019\",\"text_color\":{\"value\":\"black\"},\"text_font_size\":{\"value\":\"12pt\"}},\"id\":\"2035\",\"type\":\"Title\"},{\"attributes\":{},\"id\":\"2064\",\"type\":\"Selection\"},{\"attributes\":{\"fill_alpha\":{\"value\":0.1},\"fill_color\":{\"value\":\"#1f77b3\"},\"line_alpha\":{\"value\":0.1},\"top\":{\"field\":\"Subscribers\"},\"width\":{\"value\":0.8},\"x\":{\"field\":\"Area\"}},\"id\":\"2067\",\"type\":\"VBar\"},{\"attributes\":{\"below\":[{\"id\":\"2043\"}],\"center\":[{\"id\":\"2045\"},{\"id\":\"2049\"}],\"left\":[{\"id\":\"2046\"}],\"margin\":[5,5,5,5],\"min_border_bottom\":10,\"min_border_left\":10,\"min_border_right\":10,\"min_border_top\":10,\"plot_height\":300,\"plot_width\":700,\"renderers\":[{\"id\":\"2069\"}],\"sizing_mode\":\"fixed\",\"title\":{\"id\":\"2035\"},\"toolbar\":{\"id\":\"2056\"},\"x_range\":{\"id\":\"2031\"},\"x_scale\":{\"id\":\"2039\"},\"y_range\":{\"id\":\"2032\"},\"y_scale\":{\"id\":\"2041\"}},\"id\":\"2034\",\"subtype\":\"Figure\",\"type\":\"Plot\"},{\"attributes\":{},\"id\":\"2050\",\"type\":\"SaveTool\"},{\"attributes\":{},\"id\":\"2051\",\"type\":\"PanTool\"},{\"attributes\":{\"source\":{\"id\":\"2063\"}},\"id\":\"2070\",\"type\":\"CDSView\"},{\"attributes\":{},\"id\":\"2054\",\"type\":\"ResetTool\"},{\"attributes\":{},\"id\":\"2052\",\"type\":\"WheelZoomTool\"},{\"attributes\":{\"overlay\":{\"id\":\"2055\"}},\"id\":\"2053\",\"type\":\"BoxZoomTool\"},{\"attributes\":{},\"id\":\"2039\",\"type\":\"CategoricalScale\"},{\"attributes\":{\"axis\":{\"id\":\"2043\"},\"grid_line_color\":null,\"ticker\":null},\"id\":\"2045\",\"type\":\"Grid\"},{\"attributes\":{},\"id\":\"2044\",\"type\":\"CategoricalTicker\"},{\"attributes\":{},\"id\":\"2041\",\"type\":\"LinearScale\"},{\"attributes\":{\"end\":72082200.0,\"reset_end\":72082200.0,\"reset_start\":0.0,\"tags\":[[[\"Subscribers\",\"Subscribers\",null]]]},\"id\":\"2032\",\"type\":\"Range1d\"},{\"attributes\":{},\"id\":\"2074\",\"type\":\"BasicTickFormatter\"},{\"attributes\":{\"children\":[{\"id\":\"2030\"},{\"id\":\"2034\"},{\"id\":\"2091\"}],\"margin\":[0,0,0,0],\"name\":\"Row03242\",\"tags\":[\"embedded\"]},\"id\":\"2029\",\"type\":\"Row\"},{\"attributes\":{\"axis_label\":\"Area\",\"bounds\":\"auto\",\"formatter\":{\"id\":\"2071\"},\"major_label_orientation\":\"horizontal\",\"ticker\":{\"id\":\"2044\"}},\"id\":\"2043\",\"type\":\"CategoricalAxis\"},{\"attributes\":{\"callback\":null,\"renderers\":[{\"id\":\"2069\"}],\"tags\":[\"hv_created\"],\"tooltips\":[[\"Area\",\"@{Area}\"],[\"Subscribers\",\"@{Subscribers}\"]]},\"id\":\"2033\",\"type\":\"HoverTool\"},{\"attributes\":{\"axis_label\":\"Subscribers\",\"bounds\":\"auto\",\"formatter\":{\"id\":\"2074\"},\"major_label_orientation\":\"horizontal\",\"ticker\":{\"id\":\"2047\"}},\"id\":\"2046\",\"type\":\"LinearAxis\"},{\"attributes\":{\"data\":{\"Area\":[\"United States and Canada\",\"Europe, Middle East and Africa\",\"Latin America\",\"Asia-Pacific\"],\"Subscribers\":[66633000,42542000,27547000,12141000]},\"selected\":{\"id\":\"2064\"},\"selection_policy\":{\"id\":\"2081\"}},\"id\":\"2063\",\"type\":\"ColumnDataSource\"},{\"attributes\":{\"margin\":[5,5,5,5],\"name\":\"HSpacer03246\",\"sizing_mode\":\"stretch_width\"},\"id\":\"2030\",\"type\":\"Spacer\"},{\"attributes\":{},\"id\":\"2047\",\"type\":\"BasicTicker\"},{\"attributes\":{\"axis\":{\"id\":\"2046\"},\"dimension\":1,\"grid_line_color\":null,\"ticker\":null},\"id\":\"2049\",\"type\":\"Grid\"},{\"attributes\":{\"margin\":[5,5,5,5],\"name\":\"HSpacer03247\",\"sizing_mode\":\"stretch_width\"},\"id\":\"2091\",\"type\":\"Spacer\"},{\"attributes\":{\"fill_color\":{\"value\":\"#1f77b3\"},\"top\":{\"field\":\"Subscribers\"},\"width\":{\"value\":0.8},\"x\":{\"field\":\"Area\"}},\"id\":\"2066\",\"type\":\"VBar\"},{\"attributes\":{\"factors\":[\"United States and Canada\",\"Europe, Middle East and Africa\",\"Latin America\",\"Asia-Pacific\"],\"tags\":[[[\"Area\",\"Area\",null]]]},\"id\":\"2031\",\"type\":\"FactorRange\"}],\"root_ids\":[\"2029\"]},\"title\":\"Bokeh Application\",\"version\":\"2.2.3\"}};\n",
       "    var render_items = [{\"docid\":\"6772d9d4-c27e-486f-9e92-b8b9ba29f3b7\",\"root_ids\":[\"2029\"],\"roots\":{\"2029\":\"0a286b34-894a-4cd4-8405-48bc5fd5070d\"}}];\n",
       "    root.Bokeh.embed.embed_items_notebook(docs_json, render_items);\n",
       "  }\n",
       "  if (root.Bokeh !== undefined && root.Bokeh.Panel !== undefined) {\n",
       "    embed_document(root);\n",
       "  } else {\n",
       "    var attempts = 0;\n",
       "    var timer = setInterval(function(root) {\n",
       "      if (root.Bokeh !== undefined && root.Bokeh.Panel !== undefined) {\n",
       "        clearInterval(timer);\n",
       "        embed_document(root);\n",
       "      } else if (document.readyState == \"complete\") {\n",
       "        attempts++;\n",
       "        if (attempts > 100) {\n",
       "          clearInterval(timer);\n",
       "          console.log(\"Bokeh: ERROR: Unable to run BokehJS code because BokehJS library is missing\");\n",
       "        }\n",
       "      }\n",
       "    }, 10, root)\n",
       "  }\n",
       "})(window);</script>"
      ],
      "text/plain": [
       ":Bars   [Area]   (Subscribers)"
      ]
     },
     "execution_count": 53,
     "metadata": {
      "application/vnd.holoviews_exec.v0+json": {
       "id": "2029"
      }
     },
     "output_type": "execute_result"
    }
   ],
   "source": [
    "# Create a DataFrame that slices the subscriber data for Q1 - 2019.\n",
    "q1_2019 =  subscribers_df.query('Years ==  \"Q1 - 2019\"')\n",
    "\n",
    "# Set the index of the DataFrame to Area\n",
    "q1_2019 = q1_2019.set_index(\"Area\")\n",
    "\n",
    "# Create a bar chart of the Q1 - 2018 data\n",
    "q1_2019_plot = q1_2019.hvplot.bar(title=\"Q1 - 2019\")\n",
    "\n",
    "# Show the bar chart\n",
    "q1_2019_plot"
   ]
  },
  {
   "cell_type": "code",
   "execution_count": 22,
   "metadata": {},
   "outputs": [
    {
     "data": {},
     "metadata": {},
     "output_type": "display_data"
    },
    {
     "data": {
      "application/vnd.holoviews_exec.v0+json": "",
      "text/html": [
       "<div id='1509'>\n",
       "\n",
       "\n",
       "\n",
       "\n",
       "\n",
       "  <div class=\"bk-root\" id=\"3cb4c290-6ce2-46b6-bbb5-cd22f394b0a7\" data-root-id=\"1509\"></div>\n",
       "</div>\n",
       "<script type=\"application/javascript\">(function(root) {\n",
       "  function embed_document(root) {\n",
       "    var docs_json = {\"4c328fac-77d5-4456-ba33-7535f36d4325\":{\"roots\":{\"references\":[{\"attributes\":{\"axis\":{\"id\":\"1523\"},\"grid_line_color\":null,\"ticker\":null},\"id\":\"1525\",\"type\":\"Grid\"},{\"attributes\":{},\"id\":\"1524\",\"type\":\"CategoricalTicker\"},{\"attributes\":{},\"id\":\"1521\",\"type\":\"LinearScale\"},{\"attributes\":{\"end\":74982400.0,\"reset_end\":74982400.0,\"reset_start\":0.0,\"tags\":[[[\"Subscribers\",\"Subscribers\",null]]]},\"id\":\"1512\",\"type\":\"Range1d\"},{\"attributes\":{},\"id\":\"1534\",\"type\":\"ResetTool\"},{\"attributes\":{\"axis_label\":\"Area\",\"bounds\":\"auto\",\"formatter\":{\"id\":\"1551\"},\"major_label_orientation\":\"horizontal\",\"ticker\":{\"id\":\"1524\"}},\"id\":\"1523\",\"type\":\"CategoricalAxis\"},{\"attributes\":{\"callback\":null,\"renderers\":[{\"id\":\"1549\"}],\"tags\":[\"hv_created\"],\"tooltips\":[[\"Area\",\"@{Area}\"],[\"Subscribers\",\"@{Subscribers}\"]]},\"id\":\"1513\",\"type\":\"HoverTool\"},{\"attributes\":{\"axis_label\":\"Subscribers\",\"bounds\":\"auto\",\"formatter\":{\"id\":\"1554\"},\"major_label_orientation\":\"horizontal\",\"ticker\":{\"id\":\"1527\"}},\"id\":\"1526\",\"type\":\"LinearAxis\"},{\"attributes\":{},\"id\":\"1554\",\"type\":\"BasicTickFormatter\"},{\"attributes\":{\"data\":{\"Area\":[\"United States and Canada\",\"Europe, Middle East and Africa\",\"Latin America\",\"Asia-Pacific\"],\"Subscribers\":[69969000,58734000,34318000,19835000]},\"selected\":{\"id\":\"1544\"},\"selection_policy\":{\"id\":\"1561\"}},\"id\":\"1543\",\"type\":\"ColumnDataSource\"},{\"attributes\":{},\"id\":\"1527\",\"type\":\"BasicTicker\"},{\"attributes\":{\"axis\":{\"id\":\"1526\"},\"dimension\":1,\"grid_line_color\":null,\"ticker\":null},\"id\":\"1529\",\"type\":\"Grid\"},{\"attributes\":{\"children\":[{\"id\":\"1510\"},{\"id\":\"1514\"},{\"id\":\"1571\"}],\"margin\":[0,0,0,0],\"name\":\"Row02421\",\"tags\":[\"embedded\"]},\"id\":\"1509\",\"type\":\"Row\"},{\"attributes\":{\"active_drag\":\"auto\",\"active_inspect\":\"auto\",\"active_multi\":null,\"active_scroll\":\"auto\",\"active_tap\":\"auto\",\"tools\":[{\"id\":\"1513\"},{\"id\":\"1530\"},{\"id\":\"1531\"},{\"id\":\"1532\"},{\"id\":\"1533\"},{\"id\":\"1534\"}]},\"id\":\"1536\",\"type\":\"Toolbar\"},{\"attributes\":{\"margin\":[5,5,5,5],\"name\":\"HSpacer02425\",\"sizing_mode\":\"stretch_width\"},\"id\":\"1510\",\"type\":\"Spacer\"},{\"attributes\":{},\"id\":\"1544\",\"type\":\"Selection\"},{\"attributes\":{\"text\":\"\",\"text_color\":{\"value\":\"black\"},\"text_font_size\":{\"value\":\"12pt\"}},\"id\":\"1515\",\"type\":\"Title\"},{\"attributes\":{},\"id\":\"1551\",\"type\":\"CategoricalTickFormatter\"},{\"attributes\":{\"source\":{\"id\":\"1543\"}},\"id\":\"1550\",\"type\":\"CDSView\"},{\"attributes\":{\"data_source\":{\"id\":\"1543\"},\"glyph\":{\"id\":\"1546\"},\"hover_glyph\":null,\"muted_glyph\":{\"id\":\"1548\"},\"nonselection_glyph\":{\"id\":\"1547\"},\"selection_glyph\":null,\"view\":{\"id\":\"1550\"}},\"id\":\"1549\",\"type\":\"GlyphRenderer\"},{\"attributes\":{\"fill_color\":{\"value\":\"#1f77b3\"},\"top\":{\"field\":\"Subscribers\"},\"width\":{\"value\":0.8},\"x\":{\"field\":\"Area\"}},\"id\":\"1546\",\"type\":\"VBar\"},{\"attributes\":{},\"id\":\"1561\",\"type\":\"UnionRenderers\"},{\"attributes\":{\"below\":[{\"id\":\"1523\"}],\"center\":[{\"id\":\"1525\"},{\"id\":\"1529\"}],\"left\":[{\"id\":\"1526\"}],\"margin\":[5,5,5,5],\"min_border_bottom\":10,\"min_border_left\":10,\"min_border_right\":10,\"min_border_top\":10,\"plot_height\":300,\"plot_width\":700,\"renderers\":[{\"id\":\"1549\"}],\"sizing_mode\":\"fixed\",\"title\":{\"id\":\"1515\"},\"toolbar\":{\"id\":\"1536\"},\"x_range\":{\"id\":\"1511\"},\"x_scale\":{\"id\":\"1519\"},\"y_range\":{\"id\":\"1512\"},\"y_scale\":{\"id\":\"1521\"}},\"id\":\"1514\",\"subtype\":\"Figure\",\"type\":\"Plot\"},{\"attributes\":{\"margin\":[5,5,5,5],\"name\":\"HSpacer02426\",\"sizing_mode\":\"stretch_width\"},\"id\":\"1571\",\"type\":\"Spacer\"},{\"attributes\":{\"factors\":[\"United States and Canada\",\"Europe, Middle East and Africa\",\"Latin America\",\"Asia-Pacific\"],\"tags\":[[[\"Area\",\"Area\",null]]]},\"id\":\"1511\",\"type\":\"FactorRange\"},{\"attributes\":{},\"id\":\"1530\",\"type\":\"SaveTool\"},{\"attributes\":{\"fill_alpha\":{\"value\":0.1},\"fill_color\":{\"value\":\"#1f77b3\"},\"line_alpha\":{\"value\":0.1},\"top\":{\"field\":\"Subscribers\"},\"width\":{\"value\":0.8},\"x\":{\"field\":\"Area\"}},\"id\":\"1547\",\"type\":\"VBar\"},{\"attributes\":{},\"id\":\"1531\",\"type\":\"PanTool\"},{\"attributes\":{\"fill_alpha\":{\"value\":0.2},\"fill_color\":{\"value\":\"#1f77b3\"},\"line_alpha\":{\"value\":0.2},\"top\":{\"field\":\"Subscribers\"},\"width\":{\"value\":0.8},\"x\":{\"field\":\"Area\"}},\"id\":\"1548\",\"type\":\"VBar\"},{\"attributes\":{},\"id\":\"1532\",\"type\":\"WheelZoomTool\"},{\"attributes\":{\"bottom_units\":\"screen\",\"fill_alpha\":0.5,\"fill_color\":\"lightgrey\",\"left_units\":\"screen\",\"level\":\"overlay\",\"line_alpha\":1.0,\"line_color\":\"black\",\"line_dash\":[4,4],\"line_width\":2,\"right_units\":\"screen\",\"top_units\":\"screen\"},\"id\":\"1535\",\"type\":\"BoxAnnotation\"},{\"attributes\":{},\"id\":\"1519\",\"type\":\"CategoricalScale\"},{\"attributes\":{\"overlay\":{\"id\":\"1535\"}},\"id\":\"1533\",\"type\":\"BoxZoomTool\"}],\"root_ids\":[\"1509\"]},\"title\":\"Bokeh Application\",\"version\":\"2.2.3\"}};\n",
       "    var render_items = [{\"docid\":\"4c328fac-77d5-4456-ba33-7535f36d4325\",\"root_ids\":[\"1509\"],\"roots\":{\"1509\":\"3cb4c290-6ce2-46b6-bbb5-cd22f394b0a7\"}}];\n",
       "    root.Bokeh.embed.embed_items_notebook(docs_json, render_items);\n",
       "  }\n",
       "  if (root.Bokeh !== undefined && root.Bokeh.Panel !== undefined) {\n",
       "    embed_document(root);\n",
       "  } else {\n",
       "    var attempts = 0;\n",
       "    var timer = setInterval(function(root) {\n",
       "      if (root.Bokeh !== undefined && root.Bokeh.Panel !== undefined) {\n",
       "        clearInterval(timer);\n",
       "        embed_document(root);\n",
       "      } else if (document.readyState == \"complete\") {\n",
       "        attempts++;\n",
       "        if (attempts > 100) {\n",
       "          clearInterval(timer);\n",
       "          console.log(\"Bokeh: ERROR: Unable to run BokehJS code because BokehJS library is missing\");\n",
       "        }\n",
       "      }\n",
       "    }, 10, root)\n",
       "  }\n",
       "})(window);</script>"
      ],
      "text/plain": [
       ":Bars   [Area]   (Subscribers)"
      ]
     },
     "execution_count": 22,
     "metadata": {
      "application/vnd.holoviews_exec.v0+json": {
       "id": "1509"
      }
     },
     "output_type": "execute_result"
    }
   ],
   "source": [
    "# Create a DataFrame that slices the subscriber data for Q1 - 2018.\n",
    "q1_2020 =  subscribers_df.query('Years ==  \"Q1 - 2020\"')\n",
    "\n",
    "# Set the index of the DataFrame to Area\n",
    "q1_2020 = q1_2020.set_index(\"Area\")\n",
    "\n",
    "# Create a bar chart of the Q1 - 2018 data\n",
    "q1_2020_plot = q1_2020.hvplot.bar()\n",
    "\n",
    "# Show the bar chart\n",
    "q1_2020_plot"
   ]
  },
  {
   "cell_type": "markdown",
   "metadata": {},
   "source": [
    "## Create a compose plot to visualize the Q1 data"
   ]
  },
  {
   "cell_type": "code",
   "execution_count": 54,
   "metadata": {},
   "outputs": [
    {
     "data": {},
     "metadata": {},
     "output_type": "display_data"
    },
    {
     "data": {
      "application/vnd.holoviews_exec.v0+json": "",
      "text/html": [
       "<div id='2133'>\n",
       "\n",
       "\n",
       "\n",
       "\n",
       "\n",
       "  <div class=\"bk-root\" id=\"a66d5f57-b7fc-4f54-a814-98aacf055f93\" data-root-id=\"2133\"></div>\n",
       "</div>\n",
       "<script type=\"application/javascript\">(function(root) {\n",
       "  function embed_document(root) {\n",
       "    var docs_json = {\"8215665c-045a-4b0f-9078-6c6b524e82df\":{\"roots\":{\"references\":[{\"attributes\":{\"axis_label\":\"Area\",\"bounds\":\"auto\",\"formatter\":{\"id\":\"2261\"},\"major_label_orientation\":\"horizontal\",\"ticker\":{\"id\":\"2234\"}},\"id\":\"2233\",\"type\":\"CategoricalAxis\"},{\"attributes\":{},\"id\":\"2237\",\"type\":\"BasicTicker\"},{\"attributes\":{},\"id\":\"2154\",\"type\":\"SaveTool\"},{\"attributes\":{\"axis\":{\"id\":\"2236\"},\"dimension\":1,\"grid_line_color\":null,\"ticker\":null},\"id\":\"2239\",\"type\":\"Grid\"},{\"attributes\":{\"fill_alpha\":{\"value\":0.1},\"fill_color\":{\"value\":\"#1f77b3\"},\"line_alpha\":{\"value\":0.1},\"top\":{\"field\":\"Subscribers\"},\"width\":{\"value\":0.8},\"x\":{\"field\":\"Area\"}},\"id\":\"2257\",\"type\":\"VBar\"},{\"attributes\":{\"text\":\"Q1 - 2019\",\"text_color\":{\"value\":\"black\"},\"text_font_size\":{\"value\":\"12pt\"}},\"id\":\"2182\",\"type\":\"Title\"},{\"attributes\":{\"axis_label\":\"Subscribers\",\"bounds\":\"auto\",\"formatter\":{\"id\":\"2264\"},\"major_label_orientation\":\"horizontal\",\"ticker\":{\"id\":\"2237\"}},\"id\":\"2236\",\"type\":\"LinearAxis\"},{\"attributes\":{\"fill_color\":{\"value\":\"#1f77b3\"},\"top\":{\"field\":\"Subscribers\"},\"width\":{\"value\":0.8},\"x\":{\"field\":\"Area\"}},\"id\":\"2256\",\"type\":\"VBar\"},{\"attributes\":{\"below\":[{\"id\":\"2190\"}],\"center\":[{\"id\":\"2192\"},{\"id\":\"2196\"}],\"left\":[{\"id\":\"2193\"}],\"margin\":null,\"min_border_bottom\":10,\"min_border_left\":10,\"min_border_right\":10,\"min_border_top\":10,\"plot_height\":300,\"plot_width\":700,\"renderers\":[{\"id\":\"2216\"}],\"sizing_mode\":\"fixed\",\"title\":{\"id\":\"2182\"},\"toolbar\":{\"id\":\"2203\"},\"toolbar_location\":null,\"x_range\":{\"id\":\"2135\"},\"x_scale\":{\"id\":\"2186\"},\"y_range\":{\"id\":\"2136\"},\"y_scale\":{\"id\":\"2188\"}},\"id\":\"2181\",\"subtype\":\"Figure\",\"type\":\"Plot\"},{\"attributes\":{\"margin\":[5,5,5,5],\"name\":\"HSpacer03328\",\"sizing_mode\":\"stretch_width\"},\"id\":\"2512\",\"type\":\"Spacer\"},{\"attributes\":{\"fill_alpha\":{\"value\":0.2},\"fill_color\":{\"value\":\"#1f77b3\"},\"line_alpha\":{\"value\":0.2},\"top\":{\"field\":\"Subscribers\"},\"width\":{\"value\":0.8},\"x\":{\"field\":\"Area\"}},\"id\":\"2258\",\"type\":\"VBar\"},{\"attributes\":{},\"id\":\"2186\",\"type\":\"CategoricalScale\"},{\"attributes\":{\"below\":[{\"id\":\"2233\"}],\"center\":[{\"id\":\"2235\"},{\"id\":\"2239\"}],\"left\":[{\"id\":\"2236\"}],\"margin\":null,\"min_border_bottom\":10,\"min_border_left\":10,\"min_border_right\":10,\"min_border_top\":10,\"plot_height\":300,\"plot_width\":700,\"renderers\":[{\"id\":\"2259\"}],\"sizing_mode\":\"fixed\",\"title\":{\"id\":\"2225\"},\"toolbar\":{\"id\":\"2246\"},\"toolbar_location\":null,\"x_range\":{\"id\":\"2135\"},\"x_scale\":{\"id\":\"2229\"},\"y_range\":{\"id\":\"2136\"},\"y_scale\":{\"id\":\"2231\"}},\"id\":\"2224\",\"subtype\":\"Figure\",\"type\":\"Plot\"},{\"attributes\":{},\"id\":\"2191\",\"type\":\"CategoricalTicker\"},{\"attributes\":{\"axis\":{\"id\":\"2190\"},\"grid_line_color\":null,\"ticker\":null},\"id\":\"2192\",\"type\":\"Grid\"},{\"attributes\":{\"fill_color\":{\"value\":\"#1f77b3\"},\"top\":{\"field\":\"Subscribers\"},\"width\":{\"value\":0.8},\"x\":{\"field\":\"Area\"}},\"id\":\"2213\",\"type\":\"VBar\"},{\"attributes\":{},\"id\":\"2188\",\"type\":\"LinearScale\"},{\"attributes\":{\"data_source\":{\"id\":\"2253\"},\"glyph\":{\"id\":\"2256\"},\"hover_glyph\":null,\"muted_glyph\":{\"id\":\"2258\"},\"nonselection_glyph\":{\"id\":\"2257\"},\"selection_glyph\":null,\"view\":{\"id\":\"2260\"}},\"id\":\"2259\",\"type\":\"GlyphRenderer\"},{\"attributes\":{\"factors\":[\"United States and Canada\",\"Europe, Middle East and Africa\",\"Latin America\",\"Asia-Pacific\"],\"tags\":[[[\"Area\",\"Area\",null]]]},\"id\":\"2135\",\"type\":\"FactorRange\"},{\"attributes\":{\"axis_label\":\"Area\",\"bounds\":\"auto\",\"formatter\":{\"id\":\"2218\"},\"major_label_orientation\":\"horizontal\",\"ticker\":{\"id\":\"2191\"}},\"id\":\"2190\",\"type\":\"CategoricalAxis\"},{\"attributes\":{\"source\":{\"id\":\"2253\"}},\"id\":\"2260\",\"type\":\"CDSView\"},{\"attributes\":{\"toolbars\":[{\"id\":\"2160\"},{\"id\":\"2203\"},{\"id\":\"2246\"}],\"tools\":[{\"id\":\"2137\"},{\"id\":\"2154\"},{\"id\":\"2155\"},{\"id\":\"2156\"},{\"id\":\"2157\"},{\"id\":\"2158\"},{\"id\":\"2180\"},{\"id\":\"2197\"},{\"id\":\"2198\"},{\"id\":\"2199\"},{\"id\":\"2200\"},{\"id\":\"2201\"},{\"id\":\"2223\"},{\"id\":\"2240\"},{\"id\":\"2241\"},{\"id\":\"2242\"},{\"id\":\"2243\"},{\"id\":\"2244\"}]},\"id\":\"2293\",\"type\":\"ProxyToolbar\"},{\"attributes\":{},\"id\":\"2168\",\"type\":\"Selection\"},{\"attributes\":{},\"id\":\"2194\",\"type\":\"BasicTicker\"},{\"attributes\":{},\"id\":\"2240\",\"type\":\"SaveTool\"},{\"attributes\":{},\"id\":\"2241\",\"type\":\"PanTool\"},{\"attributes\":{\"axis\":{\"id\":\"2193\"},\"dimension\":1,\"grid_line_color\":null,\"ticker\":null},\"id\":\"2196\",\"type\":\"Grid\"},{\"attributes\":{\"children\":[[{\"id\":\"2138\"},0,0],[{\"id\":\"2181\"},0,1],[{\"id\":\"2224\"},0,2]]},\"id\":\"2292\",\"type\":\"GridBox\"},{\"attributes\":{},\"id\":\"2221\",\"type\":\"BasicTickFormatter\"},{\"attributes\":{},\"id\":\"2244\",\"type\":\"ResetTool\"},{\"attributes\":{\"callback\":null,\"renderers\":[{\"id\":\"2173\"}],\"tags\":[\"hv_created\"],\"tooltips\":[[\"Area\",\"@{Area}\"],[\"Subscribers\",\"@{Subscribers}\"]]},\"id\":\"2137\",\"type\":\"HoverTool\"},{\"attributes\":{},\"id\":\"2242\",\"type\":\"WheelZoomTool\"},{\"attributes\":{\"axis_label\":\"Subscribers\",\"bounds\":\"auto\",\"formatter\":{\"id\":\"2221\"},\"major_label_orientation\":\"horizontal\",\"ticker\":{\"id\":\"2194\"}},\"id\":\"2193\",\"type\":\"LinearAxis\"},{\"attributes\":{},\"id\":\"2211\",\"type\":\"Selection\"},{\"attributes\":{},\"id\":\"2156\",\"type\":\"WheelZoomTool\"},{\"attributes\":{\"overlay\":{\"id\":\"2245\"}},\"id\":\"2243\",\"type\":\"BoxZoomTool\"},{\"attributes\":{},\"id\":\"2264\",\"type\":\"BasicTickFormatter\"},{\"attributes\":{\"source\":{\"id\":\"2210\"}},\"id\":\"2217\",\"type\":\"CDSView\"},{\"attributes\":{},\"id\":\"2229\",\"type\":\"CategoricalScale\"},{\"attributes\":{},\"id\":\"2178\",\"type\":\"BasicTickFormatter\"},{\"attributes\":{},\"id\":\"2271\",\"type\":\"UnionRenderers\"},{\"attributes\":{\"data_source\":{\"id\":\"2210\"},\"glyph\":{\"id\":\"2213\"},\"hover_glyph\":null,\"muted_glyph\":{\"id\":\"2215\"},\"nonselection_glyph\":{\"id\":\"2214\"},\"selection_glyph\":null,\"view\":{\"id\":\"2217\"}},\"id\":\"2216\",\"type\":\"GlyphRenderer\"},{\"attributes\":{},\"id\":\"2197\",\"type\":\"SaveTool\"},{\"attributes\":{\"fill_alpha\":{\"value\":0.2},\"fill_color\":{\"value\":\"#1f77b3\"},\"line_alpha\":{\"value\":0.2},\"top\":{\"field\":\"Subscribers\"},\"width\":{\"value\":0.8},\"x\":{\"field\":\"Area\"}},\"id\":\"2172\",\"type\":\"VBar\"},{\"attributes\":{},\"id\":\"2198\",\"type\":\"PanTool\"},{\"attributes\":{\"fill_color\":{\"value\":\"#1f77b3\"},\"top\":{\"field\":\"Subscribers\"},\"width\":{\"value\":0.8},\"x\":{\"field\":\"Area\"}},\"id\":\"2170\",\"type\":\"VBar\"},{\"attributes\":{},\"id\":\"2201\",\"type\":\"ResetTool\"},{\"attributes\":{\"text\":\"\",\"text_color\":{\"value\":\"black\"},\"text_font_size\":{\"value\":\"12pt\"}},\"id\":\"2225\",\"type\":\"Title\"},{\"attributes\":{},\"id\":\"2199\",\"type\":\"WheelZoomTool\"},{\"attributes\":{\"active_drag\":\"auto\",\"active_inspect\":\"auto\",\"active_multi\":null,\"active_scroll\":\"auto\",\"active_tap\":\"auto\",\"tools\":[{\"id\":\"2180\"},{\"id\":\"2197\"},{\"id\":\"2198\"},{\"id\":\"2199\"},{\"id\":\"2200\"},{\"id\":\"2201\"}]},\"id\":\"2203\",\"type\":\"Toolbar\"},{\"attributes\":{\"children\":[{\"id\":\"2294\"},{\"id\":\"2292\"}]},\"id\":\"2295\",\"type\":\"Column\"},{\"attributes\":{\"overlay\":{\"id\":\"2202\"}},\"id\":\"2200\",\"type\":\"BoxZoomTool\"},{\"attributes\":{\"callback\":null,\"renderers\":[{\"id\":\"2216\"}],\"tags\":[\"hv_created\"],\"tooltips\":[[\"Area\",\"@{Area}\"],[\"Subscribers\",\"@{Subscribers}\"]]},\"id\":\"2180\",\"type\":\"HoverTool\"},{\"attributes\":{\"data\":{\"Area\":[\"United States and Canada\",\"Europe, Middle East and Africa\",\"Latin America\",\"Asia-Pacific\"],\"Subscribers\":[66633000,42542000,27547000,12141000]},\"selected\":{\"id\":\"2211\"},\"selection_policy\":{\"id\":\"2280\"}},\"id\":\"2210\",\"type\":\"ColumnDataSource\"},{\"attributes\":{\"active_drag\":\"auto\",\"active_inspect\":\"auto\",\"active_multi\":null,\"active_scroll\":\"auto\",\"active_tap\":\"auto\",\"tools\":[{\"id\":\"2223\"},{\"id\":\"2240\"},{\"id\":\"2241\"},{\"id\":\"2242\"},{\"id\":\"2243\"},{\"id\":\"2244\"}]},\"id\":\"2246\",\"type\":\"Toolbar\"},{\"attributes\":{\"toolbar\":{\"id\":\"2293\"},\"toolbar_location\":\"above\"},\"id\":\"2294\",\"type\":\"ToolbarBox\"},{\"attributes\":{},\"id\":\"2143\",\"type\":\"CategoricalScale\"},{\"attributes\":{\"bottom_units\":\"screen\",\"fill_alpha\":0.5,\"fill_color\":\"lightgrey\",\"left_units\":\"screen\",\"level\":\"overlay\",\"line_alpha\":1.0,\"line_color\":\"black\",\"line_dash\":[4,4],\"line_width\":2,\"right_units\":\"screen\",\"top_units\":\"screen\"},\"id\":\"2245\",\"type\":\"BoxAnnotation\"},{\"attributes\":{},\"id\":\"2158\",\"type\":\"ResetTool\"},{\"attributes\":{\"active_drag\":\"auto\",\"active_inspect\":\"auto\",\"active_multi\":null,\"active_scroll\":\"auto\",\"active_tap\":\"auto\",\"tools\":[{\"id\":\"2137\"},{\"id\":\"2154\"},{\"id\":\"2155\"},{\"id\":\"2156\"},{\"id\":\"2157\"},{\"id\":\"2158\"}]},\"id\":\"2160\",\"type\":\"Toolbar\"},{\"attributes\":{},\"id\":\"2175\",\"type\":\"CategoricalTickFormatter\"},{\"attributes\":{\"below\":[{\"id\":\"2147\"}],\"center\":[{\"id\":\"2149\"},{\"id\":\"2153\"}],\"left\":[{\"id\":\"2150\"}],\"margin\":null,\"min_border_bottom\":10,\"min_border_left\":10,\"min_border_right\":10,\"min_border_top\":10,\"plot_height\":300,\"plot_width\":700,\"renderers\":[{\"id\":\"2173\"}],\"sizing_mode\":\"fixed\",\"title\":{\"id\":\"2139\"},\"toolbar\":{\"id\":\"2160\"},\"toolbar_location\":null,\"x_range\":{\"id\":\"2135\"},\"x_scale\":{\"id\":\"2143\"},\"y_range\":{\"id\":\"2136\"},\"y_scale\":{\"id\":\"2145\"}},\"id\":\"2138\",\"subtype\":\"Figure\",\"type\":\"Plot\"},{\"attributes\":{},\"id\":\"2145\",\"type\":\"LinearScale\"},{\"attributes\":{},\"id\":\"2254\",\"type\":\"Selection\"},{\"attributes\":{\"text\":\"Q1 - 2018 data\",\"text_color\":{\"value\":\"black\"},\"text_font_size\":{\"value\":\"12pt\"}},\"id\":\"2139\",\"type\":\"Title\"},{\"attributes\":{\"children\":[{\"id\":\"2134\"},{\"id\":\"2295\"},{\"id\":\"2512\"}],\"margin\":[0,0,0,0],\"name\":\"Row03323\",\"tags\":[\"embedded\"]},\"id\":\"2133\",\"type\":\"Row\"},{\"attributes\":{\"data_source\":{\"id\":\"2167\"},\"glyph\":{\"id\":\"2170\"},\"hover_glyph\":null,\"muted_glyph\":{\"id\":\"2172\"},\"nonselection_glyph\":{\"id\":\"2171\"},\"selection_glyph\":null,\"view\":{\"id\":\"2174\"}},\"id\":\"2173\",\"type\":\"GlyphRenderer\"},{\"attributes\":{\"fill_alpha\":{\"value\":0.2},\"fill_color\":{\"value\":\"#1f77b3\"},\"line_alpha\":{\"value\":0.2},\"top\":{\"field\":\"Subscribers\"},\"width\":{\"value\":0.8},\"x\":{\"field\":\"Area\"}},\"id\":\"2215\",\"type\":\"VBar\"},{\"attributes\":{\"axis\":{\"id\":\"2150\"},\"dimension\":1,\"grid_line_color\":null,\"ticker\":null},\"id\":\"2153\",\"type\":\"Grid\"},{\"attributes\":{\"data\":{\"Area\":[\"United States and Canada\",\"Europe, Middle East and Africa\",\"Latin America\",\"Asia-Pacific\"],\"Subscribers\":[60909000,29339000,21260000,7394000]},\"selected\":{\"id\":\"2168\"},\"selection_policy\":{\"id\":\"2271\"}},\"id\":\"2167\",\"type\":\"ColumnDataSource\"},{\"attributes\":{\"overlay\":{\"id\":\"2159\"}},\"id\":\"2157\",\"type\":\"BoxZoomTool\"},{\"attributes\":{},\"id\":\"2280\",\"type\":\"UnionRenderers\"},{\"attributes\":{\"axis_label\":\"Area\",\"bounds\":\"auto\",\"formatter\":{\"id\":\"2175\"},\"major_label_orientation\":\"horizontal\",\"ticker\":{\"id\":\"2148\"}},\"id\":\"2147\",\"type\":\"CategoricalAxis\"},{\"attributes\":{\"source\":{\"id\":\"2167\"}},\"id\":\"2174\",\"type\":\"CDSView\"},{\"attributes\":{\"bottom_units\":\"screen\",\"fill_alpha\":0.5,\"fill_color\":\"lightgrey\",\"left_units\":\"screen\",\"level\":\"overlay\",\"line_alpha\":1.0,\"line_color\":\"black\",\"line_dash\":[4,4],\"line_width\":2,\"right_units\":\"screen\",\"top_units\":\"screen\"},\"id\":\"2202\",\"type\":\"BoxAnnotation\"},{\"attributes\":{},\"id\":\"2289\",\"type\":\"UnionRenderers\"},{\"attributes\":{\"fill_alpha\":{\"value\":0.1},\"fill_color\":{\"value\":\"#1f77b3\"},\"line_alpha\":{\"value\":0.1},\"top\":{\"field\":\"Subscribers\"},\"width\":{\"value\":0.8},\"x\":{\"field\":\"Area\"}},\"id\":\"2171\",\"type\":\"VBar\"},{\"attributes\":{\"data\":{\"Area\":[\"United States and Canada\",\"Europe, Middle East and Africa\",\"Latin America\",\"Asia-Pacific\"],\"Subscribers\":[69969000,58734000,34318000,19835000]},\"selected\":{\"id\":\"2254\"},\"selection_policy\":{\"id\":\"2289\"}},\"id\":\"2253\",\"type\":\"ColumnDataSource\"},{\"attributes\":{\"margin\":[5,5,5,5],\"name\":\"HSpacer03327\",\"sizing_mode\":\"stretch_width\"},\"id\":\"2134\",\"type\":\"Spacer\"},{\"attributes\":{\"axis\":{\"id\":\"2147\"},\"grid_line_color\":null,\"ticker\":null},\"id\":\"2149\",\"type\":\"Grid\"},{\"attributes\":{\"bottom_units\":\"screen\",\"fill_alpha\":0.5,\"fill_color\":\"lightgrey\",\"left_units\":\"screen\",\"level\":\"overlay\",\"line_alpha\":1.0,\"line_color\":\"black\",\"line_dash\":[4,4],\"line_width\":2,\"right_units\":\"screen\",\"top_units\":\"screen\"},\"id\":\"2159\",\"type\":\"BoxAnnotation\"},{\"attributes\":{},\"id\":\"2218\",\"type\":\"CategoricalTickFormatter\"},{\"attributes\":{},\"id\":\"2148\",\"type\":\"CategoricalTicker\"},{\"attributes\":{},\"id\":\"2234\",\"type\":\"CategoricalTicker\"},{\"attributes\":{},\"id\":\"2151\",\"type\":\"BasicTicker\"},{\"attributes\":{},\"id\":\"2231\",\"type\":\"LinearScale\"},{\"attributes\":{},\"id\":\"2155\",\"type\":\"PanTool\"},{\"attributes\":{\"axis_label\":\"Subscribers\",\"bounds\":\"auto\",\"formatter\":{\"id\":\"2178\"},\"major_label_orientation\":\"horizontal\",\"ticker\":{\"id\":\"2151\"}},\"id\":\"2150\",\"type\":\"LinearAxis\"},{\"attributes\":{\"callback\":null,\"renderers\":[{\"id\":\"2259\"}],\"tags\":[\"hv_created\"],\"tooltips\":[[\"Area\",\"@{Area}\"],[\"Subscribers\",\"@{Subscribers}\"]]},\"id\":\"2223\",\"type\":\"HoverTool\"},{\"attributes\":{\"axis\":{\"id\":\"2233\"},\"grid_line_color\":null,\"ticker\":null},\"id\":\"2235\",\"type\":\"Grid\"},{\"attributes\":{\"fill_alpha\":{\"value\":0.1},\"fill_color\":{\"value\":\"#1f77b3\"},\"line_alpha\":{\"value\":0.1},\"top\":{\"field\":\"Subscribers\"},\"width\":{\"value\":0.8},\"x\":{\"field\":\"Area\"}},\"id\":\"2214\",\"type\":\"VBar\"},{\"attributes\":{},\"id\":\"2261\",\"type\":\"CategoricalTickFormatter\"},{\"attributes\":{\"end\":76226500.0,\"reset_end\":76226500.0,\"reset_start\":0.0,\"tags\":[[[\"Subscribers\",\"Subscribers\",null]]]},\"id\":\"2136\",\"type\":\"Range1d\"}],\"root_ids\":[\"2133\"]},\"title\":\"Bokeh Application\",\"version\":\"2.2.3\"}};\n",
       "    var render_items = [{\"docid\":\"8215665c-045a-4b0f-9078-6c6b524e82df\",\"root_ids\":[\"2133\"],\"roots\":{\"2133\":\"a66d5f57-b7fc-4f54-a814-98aacf055f93\"}}];\n",
       "    root.Bokeh.embed.embed_items_notebook(docs_json, render_items);\n",
       "  }\n",
       "  if (root.Bokeh !== undefined && root.Bokeh.Panel !== undefined) {\n",
       "    embed_document(root);\n",
       "  } else {\n",
       "    var attempts = 0;\n",
       "    var timer = setInterval(function(root) {\n",
       "      if (root.Bokeh !== undefined && root.Bokeh.Panel !== undefined) {\n",
       "        clearInterval(timer);\n",
       "        embed_document(root);\n",
       "      } else if (document.readyState == \"complete\") {\n",
       "        attempts++;\n",
       "        if (attempts > 100) {\n",
       "          clearInterval(timer);\n",
       "          console.log(\"Bokeh: ERROR: Unable to run BokehJS code because BokehJS library is missing\");\n",
       "        }\n",
       "      }\n",
       "    }, 10, root)\n",
       "  }\n",
       "})(window);</script>"
      ],
      "text/plain": [
       ":Layout\n",
       "   .Bars.I   :Bars   [Area]   (Subscribers)\n",
       "   .Bars.II  :Bars   [Area]   (Subscribers)\n",
       "   .Bars.III :Bars   [Area]   (Subscribers)"
      ]
     },
     "execution_count": 54,
     "metadata": {
      "application/vnd.holoviews_exec.v0+json": {
       "id": "2133"
      }
     },
     "output_type": "execute_result"
    }
   ],
   "source": [
    "# Create a compose plot to visualize the Q1 data side-by-side\n",
    "# YOUR CODE HERE\n",
    "q1_2018_plot + q1_2019_plot + q1_2020_plot"
   ]
  },
  {
   "cell_type": "markdown",
   "metadata": {},
   "source": [
    "## Create an overlay plot for the Q1 data\n",
    "\n",
    "> Hint: Does the order of the plots change the visualization?"
   ]
  },
  {
   "cell_type": "code",
   "execution_count": 55,
   "metadata": {},
   "outputs": [
    {
     "data": {},
     "metadata": {},
     "output_type": "display_data"
    },
    {
     "data": {
      "application/vnd.holoviews_exec.v0+json": "",
      "text/html": [
       "<div id='2634'>\n",
       "\n",
       "\n",
       "\n",
       "\n",
       "\n",
       "  <div class=\"bk-root\" id=\"64b41c0a-e4e4-4fe1-a0bb-1961e8fba07f\" data-root-id=\"2634\"></div>\n",
       "</div>\n",
       "<script type=\"application/javascript\">(function(root) {\n",
       "  function embed_document(root) {\n",
       "    var docs_json = {\"c06f341c-55cd-4f92-8932-2cb48ad23790\":{\"roots\":{\"references\":[{\"attributes\":{\"fill_color\":{\"value\":\"#1f77b3\"},\"top\":{\"field\":\"Subscribers\"},\"width\":{\"value\":0.8},\"x\":{\"field\":\"Area\"}},\"id\":\"2677\",\"type\":\"VBar\"},{\"attributes\":{\"fill_alpha\":{\"value\":0.2},\"fill_color\":{\"value\":\"#ff7e0e\"},\"line_alpha\":{\"value\":0.2},\"top\":{\"field\":\"Subscribers\"},\"width\":{\"value\":0.8},\"x\":{\"field\":\"Area\"}},\"id\":\"2687\",\"type\":\"VBar\"},{\"attributes\":{},\"id\":\"2673\",\"type\":\"BasicTickFormatter\"},{\"attributes\":{\"axis\":{\"id\":\"2653\"},\"dimension\":1,\"grid_line_color\":null,\"ticker\":null},\"id\":\"2656\",\"type\":\"Grid\"},{\"attributes\":{\"axis\":{\"id\":\"2650\"},\"grid_line_color\":null,\"ticker\":null},\"id\":\"2652\",\"type\":\"Grid\"},{\"attributes\":{},\"id\":\"2646\",\"type\":\"CategoricalScale\"},{\"attributes\":{\"source\":{\"id\":\"2690\"}},\"id\":\"2697\",\"type\":\"CDSView\"},{\"attributes\":{\"data\":{\"Area\":[\"United States and Canada\",\"Europe, Middle East and Africa\",\"Latin America\",\"Asia-Pacific\"],\"Subscribers\":[60909000,29339000,21260000,7394000]},\"selected\":{\"id\":\"2691\"},\"selection_policy\":{\"id\":\"2708\"}},\"id\":\"2690\",\"type\":\"ColumnDataSource\"},{\"attributes\":{},\"id\":\"2654\",\"type\":\"BasicTicker\"},{\"attributes\":{\"fill_color\":{\"value\":\"#2ba02b\"},\"top\":{\"field\":\"Subscribers\"},\"width\":{\"value\":0.8},\"x\":{\"field\":\"Area\"}},\"id\":\"2693\",\"type\":\"VBar\"},{\"attributes\":{\"axis_label\":\"Subscribers\",\"bounds\":\"auto\",\"formatter\":{\"id\":\"2673\"},\"major_label_orientation\":\"horizontal\",\"ticker\":{\"id\":\"2654\"}},\"id\":\"2653\",\"type\":\"LinearAxis\"},{\"attributes\":{\"active_drag\":\"auto\",\"active_inspect\":\"auto\",\"active_multi\":null,\"active_scroll\":\"auto\",\"active_tap\":\"auto\",\"tools\":[{\"id\":\"2638\"},{\"id\":\"2657\"},{\"id\":\"2658\"},{\"id\":\"2659\"},{\"id\":\"2660\"},{\"id\":\"2661\"}]},\"id\":\"2663\",\"type\":\"Toolbar\"},{\"attributes\":{\"source\":{\"id\":\"2674\"}},\"id\":\"2681\",\"type\":\"CDSView\"},{\"attributes\":{\"fill_alpha\":{\"value\":0.1},\"fill_color\":{\"value\":\"#2ba02b\"},\"line_alpha\":{\"value\":0.1},\"top\":{\"field\":\"Subscribers\"},\"width\":{\"value\":0.8},\"x\":{\"field\":\"Area\"}},\"id\":\"2694\",\"type\":\"VBar\"},{\"attributes\":{\"bottom_units\":\"screen\",\"fill_alpha\":0.5,\"fill_color\":\"lightgrey\",\"left_units\":\"screen\",\"level\":\"overlay\",\"line_alpha\":1.0,\"line_color\":\"black\",\"line_dash\":[4,4],\"line_width\":2,\"right_units\":\"screen\",\"top_units\":\"screen\"},\"id\":\"2662\",\"type\":\"BoxAnnotation\"},{\"attributes\":{\"data_source\":{\"id\":\"2690\"},\"glyph\":{\"id\":\"2693\"},\"hover_glyph\":null,\"muted_glyph\":{\"id\":\"2695\"},\"nonselection_glyph\":{\"id\":\"2694\"},\"selection_glyph\":null,\"view\":{\"id\":\"2697\"}},\"id\":\"2696\",\"type\":\"GlyphRenderer\"},{\"attributes\":{\"source\":{\"id\":\"2682\"}},\"id\":\"2689\",\"type\":\"CDSView\"},{\"attributes\":{},\"id\":\"2704\",\"type\":\"UnionRenderers\"},{\"attributes\":{},\"id\":\"2648\",\"type\":\"LinearScale\"},{\"attributes\":{\"fill_color\":{\"value\":\"#ff7e0e\"},\"top\":{\"field\":\"Subscribers\"},\"width\":{\"value\":0.8},\"x\":{\"field\":\"Area\"}},\"id\":\"2685\",\"type\":\"VBar\"},{\"attributes\":{},\"id\":\"2657\",\"type\":\"SaveTool\"},{\"attributes\":{},\"id\":\"2683\",\"type\":\"Selection\"},{\"attributes\":{},\"id\":\"2658\",\"type\":\"PanTool\"},{\"attributes\":{\"data\":{\"Area\":[\"United States and Canada\",\"Europe, Middle East and Africa\",\"Latin America\",\"Asia-Pacific\"],\"Subscribers\":[66633000,42542000,27547000,12141000]},\"selected\":{\"id\":\"2683\"},\"selection_policy\":{\"id\":\"2706\"}},\"id\":\"2682\",\"type\":\"ColumnDataSource\"},{\"attributes\":{},\"id\":\"2675\",\"type\":\"Selection\"},{\"attributes\":{\"factors\":[\"United States and Canada\",\"Europe, Middle East and Africa\",\"Latin America\",\"Asia-Pacific\"],\"tags\":[[[\"Area\",\"Area\",null]]]},\"id\":\"2636\",\"type\":\"FactorRange\"},{\"attributes\":{},\"id\":\"2661\",\"type\":\"ResetTool\"},{\"attributes\":{\"fill_alpha\":{\"value\":0.1},\"fill_color\":{\"value\":\"#ff7e0e\"},\"line_alpha\":{\"value\":0.1},\"top\":{\"field\":\"Subscribers\"},\"width\":{\"value\":0.8},\"x\":{\"field\":\"Area\"}},\"id\":\"2686\",\"type\":\"VBar\"},{\"attributes\":{\"children\":[{\"id\":\"2635\"},{\"id\":\"2641\"},{\"id\":\"2806\"}],\"margin\":[0,0,0,0],\"name\":\"Row03660\",\"tags\":[\"embedded\"]},\"id\":\"2634\",\"type\":\"Row\"},{\"attributes\":{\"text\":\"Q1 - 2019\",\"text_color\":{\"value\":\"black\"},\"text_font_size\":{\"value\":\"12pt\"}},\"id\":\"2642\",\"type\":\"Title\"},{\"attributes\":{},\"id\":\"2659\",\"type\":\"WheelZoomTool\"},{\"attributes\":{\"below\":[{\"id\":\"2650\"}],\"center\":[{\"id\":\"2652\"},{\"id\":\"2656\"}],\"left\":[{\"id\":\"2653\"}],\"margin\":[5,5,5,5],\"min_border_bottom\":10,\"min_border_left\":10,\"min_border_right\":10,\"min_border_top\":10,\"plot_height\":300,\"plot_width\":700,\"renderers\":[{\"id\":\"2680\"},{\"id\":\"2688\"},{\"id\":\"2696\"}],\"sizing_mode\":\"fixed\",\"title\":{\"id\":\"2642\"},\"toolbar\":{\"id\":\"2663\"},\"x_range\":{\"id\":\"2636\"},\"x_scale\":{\"id\":\"2646\"},\"y_range\":{\"id\":\"2637\"},\"y_scale\":{\"id\":\"2648\"}},\"id\":\"2641\",\"subtype\":\"Figure\",\"type\":\"Plot\"},{\"attributes\":{\"overlay\":{\"id\":\"2662\"}},\"id\":\"2660\",\"type\":\"BoxZoomTool\"},{\"attributes\":{\"data\":{\"Area\":[\"United States and Canada\",\"Europe, Middle East and Africa\",\"Latin America\",\"Asia-Pacific\"],\"Subscribers\":[69969000,58734000,34318000,19835000]},\"selected\":{\"id\":\"2675\"},\"selection_policy\":{\"id\":\"2704\"}},\"id\":\"2674\",\"type\":\"ColumnDataSource\"},{\"attributes\":{\"fill_alpha\":{\"value\":0.2},\"fill_color\":{\"value\":\"#1f77b3\"},\"line_alpha\":{\"value\":0.2},\"top\":{\"field\":\"Subscribers\"},\"width\":{\"value\":0.8},\"x\":{\"field\":\"Area\"}},\"id\":\"2679\",\"type\":\"VBar\"},{\"attributes\":{\"margin\":[5,5,5,5],\"name\":\"HSpacer03665\",\"sizing_mode\":\"stretch_width\"},\"id\":\"2806\",\"type\":\"Spacer\"},{\"attributes\":{\"margin\":[5,5,5,5],\"name\":\"HSpacer03664\",\"sizing_mode\":\"stretch_width\"},\"id\":\"2635\",\"type\":\"Spacer\"},{\"attributes\":{\"data_source\":{\"id\":\"2674\"},\"glyph\":{\"id\":\"2677\"},\"hover_glyph\":null,\"muted_glyph\":{\"id\":\"2679\"},\"nonselection_glyph\":{\"id\":\"2678\"},\"selection_glyph\":null,\"view\":{\"id\":\"2681\"}},\"id\":\"2680\",\"type\":\"GlyphRenderer\"},{\"attributes\":{},\"id\":\"2651\",\"type\":\"CategoricalTicker\"},{\"attributes\":{},\"id\":\"2706\",\"type\":\"UnionRenderers\"},{\"attributes\":{\"fill_alpha\":{\"value\":0.1},\"fill_color\":{\"value\":\"#1f77b3\"},\"line_alpha\":{\"value\":0.1},\"top\":{\"field\":\"Subscribers\"},\"width\":{\"value\":0.8},\"x\":{\"field\":\"Area\"}},\"id\":\"2678\",\"type\":\"VBar\"},{\"attributes\":{},\"id\":\"2691\",\"type\":\"Selection\"},{\"attributes\":{},\"id\":\"2670\",\"type\":\"CategoricalTickFormatter\"},{\"attributes\":{},\"id\":\"2708\",\"type\":\"UnionRenderers\"},{\"attributes\":{\"end\":76226500.0,\"reset_end\":76226500.0,\"reset_start\":0.0,\"tags\":[[[\"Subscribers\",\"Subscribers\",null]]]},\"id\":\"2637\",\"type\":\"Range1d\"},{\"attributes\":{\"data_source\":{\"id\":\"2682\"},\"glyph\":{\"id\":\"2685\"},\"hover_glyph\":null,\"muted_glyph\":{\"id\":\"2687\"},\"nonselection_glyph\":{\"id\":\"2686\"},\"selection_glyph\":null,\"view\":{\"id\":\"2689\"}},\"id\":\"2688\",\"type\":\"GlyphRenderer\"},{\"attributes\":{\"callback\":null,\"renderers\":[{\"id\":\"2680\"},{\"id\":\"2688\"},{\"id\":\"2696\"}],\"tags\":[\"hv_created\"],\"tooltips\":[[\"Area\",\"@{Area}\"],[\"Subscribers\",\"@{Subscribers}\"]]},\"id\":\"2638\",\"type\":\"HoverTool\"},{\"attributes\":{\"fill_alpha\":{\"value\":0.2},\"fill_color\":{\"value\":\"#2ba02b\"},\"line_alpha\":{\"value\":0.2},\"top\":{\"field\":\"Subscribers\"},\"width\":{\"value\":0.8},\"x\":{\"field\":\"Area\"}},\"id\":\"2695\",\"type\":\"VBar\"},{\"attributes\":{\"axis_label\":\"Area\",\"bounds\":\"auto\",\"formatter\":{\"id\":\"2670\"},\"major_label_orientation\":\"horizontal\",\"ticker\":{\"id\":\"2651\"}},\"id\":\"2650\",\"type\":\"CategoricalAxis\"}],\"root_ids\":[\"2634\"]},\"title\":\"Bokeh Application\",\"version\":\"2.2.3\"}};\n",
       "    var render_items = [{\"docid\":\"c06f341c-55cd-4f92-8932-2cb48ad23790\",\"root_ids\":[\"2634\"],\"roots\":{\"2634\":\"64b41c0a-e4e4-4fe1-a0bb-1961e8fba07f\"}}];\n",
       "    root.Bokeh.embed.embed_items_notebook(docs_json, render_items);\n",
       "  }\n",
       "  if (root.Bokeh !== undefined && root.Bokeh.Panel !== undefined) {\n",
       "    embed_document(root);\n",
       "  } else {\n",
       "    var attempts = 0;\n",
       "    var timer = setInterval(function(root) {\n",
       "      if (root.Bokeh !== undefined && root.Bokeh.Panel !== undefined) {\n",
       "        clearInterval(timer);\n",
       "        embed_document(root);\n",
       "      } else if (document.readyState == \"complete\") {\n",
       "        attempts++;\n",
       "        if (attempts > 100) {\n",
       "          clearInterval(timer);\n",
       "          console.log(\"Bokeh: ERROR: Unable to run BokehJS code because BokehJS library is missing\");\n",
       "        }\n",
       "      }\n",
       "    }, 10, root)\n",
       "  }\n",
       "})(window);</script>"
      ],
      "text/plain": [
       ":Overlay\n",
       "   .Bars.I   :Bars   [Area]   (Subscribers)\n",
       "   .Bars.II  :Bars   [Area]   (Subscribers)\n",
       "   .Bars.III :Bars   [Area]   (Subscribers)"
      ]
     },
     "execution_count": 55,
     "metadata": {
      "application/vnd.holoviews_exec.v0+json": {
       "id": "2634"
      }
     },
     "output_type": "execute_result"
    }
   ],
   "source": [
    "# Create an overlay plot to visualize the Q1 data\n",
    "# YOUR CODE HERE\n",
    "q1_2020_plot * q1_2019_plot * q1_2018_plot"
   ]
  },
  {
   "cell_type": "markdown",
   "metadata": {},
   "source": [
    "**Question:** How does the rate of growth compare across each region over the time periods being analyzed?\n",
    "\n",
    "**Answer:** # YOUR ANSWER HERE"
   ]
  },
  {
   "cell_type": "markdown",
   "metadata": {},
   "source": [
    "## Step 3: Using both a compose plot and and overlay plot, combare the time series trends in subscriber numbers for the two largest regions detailed in the dataset, the \"United States and Canada\" region and the \"Europe, Middle East and Africa\" region."
   ]
  },
  {
   "cell_type": "code",
   "execution_count": 24,
   "metadata": {},
   "outputs": [
    {
     "data": {
      "text/html": [
       "<div>\n",
       "<style scoped>\n",
       "    .dataframe tbody tr th:only-of-type {\n",
       "        vertical-align: middle;\n",
       "    }\n",
       "\n",
       "    .dataframe tbody tr th {\n",
       "        vertical-align: top;\n",
       "    }\n",
       "\n",
       "    .dataframe thead th {\n",
       "        text-align: right;\n",
       "    }\n",
       "</style>\n",
       "<table border=\"1\" class=\"dataframe\">\n",
       "  <thead>\n",
       "    <tr style=\"text-align: right;\">\n",
       "      <th></th>\n",
       "      <th>Area</th>\n",
       "      <th>Years</th>\n",
       "      <th>Subscribers</th>\n",
       "    </tr>\n",
       "  </thead>\n",
       "  <tbody>\n",
       "    <tr>\n",
       "      <th>0</th>\n",
       "      <td>United States and Canada</td>\n",
       "      <td>Q1 - 2018</td>\n",
       "      <td>60909000</td>\n",
       "    </tr>\n",
       "    <tr>\n",
       "      <th>1</th>\n",
       "      <td>Europe, Middle East and Africa</td>\n",
       "      <td>Q1 - 2018</td>\n",
       "      <td>29339000</td>\n",
       "    </tr>\n",
       "    <tr>\n",
       "      <th>2</th>\n",
       "      <td>Latin America</td>\n",
       "      <td>Q1 - 2018</td>\n",
       "      <td>21260000</td>\n",
       "    </tr>\n",
       "    <tr>\n",
       "      <th>3</th>\n",
       "      <td>Asia-Pacific</td>\n",
       "      <td>Q1 - 2018</td>\n",
       "      <td>7394000</td>\n",
       "    </tr>\n",
       "    <tr>\n",
       "      <th>4</th>\n",
       "      <td>United States and Canada</td>\n",
       "      <td>Q2 - 2018</td>\n",
       "      <td>61870000</td>\n",
       "    </tr>\n",
       "  </tbody>\n",
       "</table>\n",
       "</div>"
      ],
      "text/plain": [
       "                             Area      Years  Subscribers\n",
       "0        United States and Canada  Q1 - 2018     60909000\n",
       "1  Europe, Middle East and Africa  Q1 - 2018     29339000\n",
       "2                   Latin America  Q1 - 2018     21260000\n",
       "3                    Asia-Pacific  Q1 - 2018      7394000\n",
       "4        United States and Canada  Q2 - 2018     61870000"
      ]
     },
     "execution_count": 24,
     "metadata": {},
     "output_type": "execute_result"
    }
   ],
   "source": [
    "subscribers_df.head()"
   ]
  },
  {
   "cell_type": "code",
   "execution_count": 29,
   "metadata": {},
   "outputs": [],
   "source": [
    "# Create a DataFrame that slices the subscriber data for the United States and Canada\n",
    "us_canada_subscribers = subscribers_df.query('Area ==  \"United States and Canada\"')"
   ]
  },
  {
   "cell_type": "code",
   "execution_count": 30,
   "metadata": {},
   "outputs": [
    {
     "data": {
      "text/html": [
       "<div>\n",
       "<style scoped>\n",
       "    .dataframe tbody tr th:only-of-type {\n",
       "        vertical-align: middle;\n",
       "    }\n",
       "\n",
       "    .dataframe tbody tr th {\n",
       "        vertical-align: top;\n",
       "    }\n",
       "\n",
       "    .dataframe thead th {\n",
       "        text-align: right;\n",
       "    }\n",
       "</style>\n",
       "<table border=\"1\" class=\"dataframe\">\n",
       "  <thead>\n",
       "    <tr style=\"text-align: right;\">\n",
       "      <th></th>\n",
       "      <th>Area</th>\n",
       "      <th>Years</th>\n",
       "      <th>Subscribers</th>\n",
       "    </tr>\n",
       "  </thead>\n",
       "  <tbody>\n",
       "    <tr>\n",
       "      <th>0</th>\n",
       "      <td>United States and Canada</td>\n",
       "      <td>Q1 - 2018</td>\n",
       "      <td>60909000</td>\n",
       "    </tr>\n",
       "    <tr>\n",
       "      <th>4</th>\n",
       "      <td>United States and Canada</td>\n",
       "      <td>Q2 - 2018</td>\n",
       "      <td>61870000</td>\n",
       "    </tr>\n",
       "    <tr>\n",
       "      <th>8</th>\n",
       "      <td>United States and Canada</td>\n",
       "      <td>Q3 - 2018</td>\n",
       "      <td>63010000</td>\n",
       "    </tr>\n",
       "    <tr>\n",
       "      <th>12</th>\n",
       "      <td>United States and Canada</td>\n",
       "      <td>Q4 - 2018</td>\n",
       "      <td>64757000</td>\n",
       "    </tr>\n",
       "    <tr>\n",
       "      <th>16</th>\n",
       "      <td>United States and Canada</td>\n",
       "      <td>Q1 - 2019</td>\n",
       "      <td>66633000</td>\n",
       "    </tr>\n",
       "    <tr>\n",
       "      <th>20</th>\n",
       "      <td>United States and Canada</td>\n",
       "      <td>Q2 - 2019</td>\n",
       "      <td>66501000</td>\n",
       "    </tr>\n",
       "    <tr>\n",
       "      <th>24</th>\n",
       "      <td>United States and Canada</td>\n",
       "      <td>Q3 - 2019</td>\n",
       "      <td>67114000</td>\n",
       "    </tr>\n",
       "    <tr>\n",
       "      <th>28</th>\n",
       "      <td>United States and Canada</td>\n",
       "      <td>Q4 - 2019</td>\n",
       "      <td>67662000</td>\n",
       "    </tr>\n",
       "    <tr>\n",
       "      <th>32</th>\n",
       "      <td>United States and Canada</td>\n",
       "      <td>Q1 - 2020</td>\n",
       "      <td>69969000</td>\n",
       "    </tr>\n",
       "    <tr>\n",
       "      <th>36</th>\n",
       "      <td>United States and Canada</td>\n",
       "      <td>Q2 - 2020</td>\n",
       "      <td>72904000</td>\n",
       "    </tr>\n",
       "  </tbody>\n",
       "</table>\n",
       "</div>"
      ],
      "text/plain": [
       "                        Area      Years  Subscribers\n",
       "0   United States and Canada  Q1 - 2018     60909000\n",
       "4   United States and Canada  Q2 - 2018     61870000\n",
       "8   United States and Canada  Q3 - 2018     63010000\n",
       "12  United States and Canada  Q4 - 2018     64757000\n",
       "16  United States and Canada  Q1 - 2019     66633000\n",
       "20  United States and Canada  Q2 - 2019     66501000\n",
       "24  United States and Canada  Q3 - 2019     67114000\n",
       "28  United States and Canada  Q4 - 2019     67662000\n",
       "32  United States and Canada  Q1 - 2020     69969000\n",
       "36  United States and Canada  Q2 - 2020     72904000"
      ]
     },
     "execution_count": 30,
     "metadata": {},
     "output_type": "execute_result"
    }
   ],
   "source": [
    "us_canada_subscribers"
   ]
  },
  {
   "cell_type": "code",
   "execution_count": 32,
   "metadata": {},
   "outputs": [
    {
     "data": {},
     "metadata": {},
     "output_type": "display_data"
    },
    {
     "data": {
      "application/vnd.holoviews_exec.v0+json": "",
      "text/html": [
       "<div id='1613'>\n",
       "\n",
       "\n",
       "\n",
       "\n",
       "\n",
       "  <div class=\"bk-root\" id=\"c6b7a0c6-ca05-4549-a25b-6fc1910478bc\" data-root-id=\"1613\"></div>\n",
       "</div>\n",
       "<script type=\"application/javascript\">(function(root) {\n",
       "  function embed_document(root) {\n",
       "    var docs_json = {\"9f6a7b8c-76c8-4210-a871-44d59fc178ab\":{\"roots\":{\"references\":[{\"attributes\":{},\"id\":\"1648\",\"type\":\"Selection\"},{\"attributes\":{\"active_drag\":\"auto\",\"active_inspect\":\"auto\",\"active_multi\":null,\"active_scroll\":\"auto\",\"active_tap\":\"auto\",\"tools\":[{\"id\":\"1617\"},{\"id\":\"1634\"},{\"id\":\"1635\"},{\"id\":\"1636\"},{\"id\":\"1637\"},{\"id\":\"1638\"}]},\"id\":\"1640\",\"type\":\"Toolbar\"},{\"attributes\":{\"axis\":{\"id\":\"1630\"},\"dimension\":1,\"grid_line_color\":null,\"ticker\":null},\"id\":\"1633\",\"type\":\"Grid\"},{\"attributes\":{\"line_alpha\":0.2,\"line_color\":\"#1f77b3\",\"line_width\":2,\"x\":{\"field\":\"Years\"},\"y\":{\"field\":\"Subscribers\"}},\"id\":\"1652\",\"type\":\"Line\"},{\"attributes\":{},\"id\":\"1625\",\"type\":\"LinearScale\"},{\"attributes\":{\"line_alpha\":0.1,\"line_color\":\"#1f77b3\",\"line_width\":2,\"x\":{\"field\":\"Years\"},\"y\":{\"field\":\"Subscribers\"}},\"id\":\"1651\",\"type\":\"Line\"},{\"attributes\":{\"bottom_units\":\"screen\",\"fill_alpha\":0.5,\"fill_color\":\"lightgrey\",\"left_units\":\"screen\",\"level\":\"overlay\",\"line_alpha\":1.0,\"line_color\":\"black\",\"line_dash\":[4,4],\"line_width\":2,\"right_units\":\"screen\",\"top_units\":\"screen\"},\"id\":\"1639\",\"type\":\"BoxAnnotation\"},{\"attributes\":{\"text\":\"\",\"text_color\":{\"value\":\"black\"},\"text_font_size\":{\"value\":\"12pt\"}},\"id\":\"1619\",\"type\":\"Title\"},{\"attributes\":{\"below\":[{\"id\":\"1627\"}],\"center\":[{\"id\":\"1629\"},{\"id\":\"1633\"}],\"left\":[{\"id\":\"1630\"}],\"margin\":[5,5,5,5],\"min_border_bottom\":10,\"min_border_left\":10,\"min_border_right\":10,\"min_border_top\":10,\"plot_height\":300,\"plot_width\":700,\"renderers\":[{\"id\":\"1653\"}],\"sizing_mode\":\"fixed\",\"title\":{\"id\":\"1619\"},\"toolbar\":{\"id\":\"1640\"},\"x_range\":{\"id\":\"1615\"},\"x_scale\":{\"id\":\"1623\"},\"y_range\":{\"id\":\"1616\"},\"y_scale\":{\"id\":\"1625\"}},\"id\":\"1618\",\"subtype\":\"Figure\",\"type\":\"Plot\"},{\"attributes\":{\"children\":[{\"id\":\"1614\"},{\"id\":\"1618\"},{\"id\":\"1675\"}],\"margin\":[0,0,0,0],\"name\":\"Row02572\",\"tags\":[\"embedded\"]},\"id\":\"1613\",\"type\":\"Row\"},{\"attributes\":{\"source\":{\"id\":\"1647\"}},\"id\":\"1654\",\"type\":\"CDSView\"},{\"attributes\":{\"data_source\":{\"id\":\"1647\"},\"glyph\":{\"id\":\"1650\"},\"hover_glyph\":null,\"muted_glyph\":{\"id\":\"1652\"},\"nonselection_glyph\":{\"id\":\"1651\"},\"selection_glyph\":null,\"view\":{\"id\":\"1654\"}},\"id\":\"1653\",\"type\":\"GlyphRenderer\"},{\"attributes\":{},\"id\":\"1655\",\"type\":\"CategoricalTickFormatter\"},{\"attributes\":{\"data\":{\"Subscribers\":[60909000,61870000,63010000,64757000,66633000,66501000,67114000,67662000,69969000,72904000],\"Years\":[\"Q1 - 2018\",\"Q2 - 2018\",\"Q3 - 2018\",\"Q4 - 2018\",\"Q1 - 2019\",\"Q2 - 2019\",\"Q3 - 2019\",\"Q4 - 2019\",\"Q1 - 2020\",\"Q2 - 2020\"]},\"selected\":{\"id\":\"1648\"},\"selection_policy\":{\"id\":\"1665\"}},\"id\":\"1647\",\"type\":\"ColumnDataSource\"},{\"attributes\":{\"margin\":[5,5,5,5],\"name\":\"HSpacer02576\",\"sizing_mode\":\"stretch_width\"},\"id\":\"1614\",\"type\":\"Spacer\"},{\"attributes\":{},\"id\":\"1634\",\"type\":\"SaveTool\"},{\"attributes\":{},\"id\":\"1635\",\"type\":\"PanTool\"},{\"attributes\":{},\"id\":\"1638\",\"type\":\"ResetTool\"},{\"attributes\":{},\"id\":\"1636\",\"type\":\"WheelZoomTool\"},{\"attributes\":{\"margin\":[5,5,5,5],\"name\":\"HSpacer02577\",\"sizing_mode\":\"stretch_width\"},\"id\":\"1675\",\"type\":\"Spacer\"},{\"attributes\":{\"factors\":[\"Q1 - 2018\",\"Q2 - 2018\",\"Q3 - 2018\",\"Q4 - 2018\",\"Q1 - 2019\",\"Q2 - 2019\",\"Q3 - 2019\",\"Q4 - 2019\",\"Q1 - 2020\",\"Q2 - 2020\"],\"tags\":[[[\"Years\",\"Years\",null]]]},\"id\":\"1615\",\"type\":\"FactorRange\"},{\"attributes\":{},\"id\":\"1623\",\"type\":\"CategoricalScale\"},{\"attributes\":{\"overlay\":{\"id\":\"1639\"}},\"id\":\"1637\",\"type\":\"BoxZoomTool\"},{\"attributes\":{\"axis\":{\"id\":\"1627\"},\"grid_line_color\":null,\"ticker\":null},\"id\":\"1629\",\"type\":\"Grid\"},{\"attributes\":{\"line_color\":\"#1f77b3\",\"line_width\":2,\"x\":{\"field\":\"Years\"},\"y\":{\"field\":\"Subscribers\"}},\"id\":\"1650\",\"type\":\"Line\"},{\"attributes\":{\"end\":74103500.0,\"reset_end\":74103500.0,\"reset_start\":59709500.0,\"start\":59709500.0,\"tags\":[[[\"Subscribers\",\"Subscribers\",null]]]},\"id\":\"1616\",\"type\":\"Range1d\"},{\"attributes\":{},\"id\":\"1628\",\"type\":\"CategoricalTicker\"},{\"attributes\":{\"axis_label\":\"Years\",\"bounds\":\"auto\",\"formatter\":{\"id\":\"1655\"},\"major_label_orientation\":\"horizontal\",\"ticker\":{\"id\":\"1628\"}},\"id\":\"1627\",\"type\":\"CategoricalAxis\"},{\"attributes\":{},\"id\":\"1665\",\"type\":\"UnionRenderers\"},{\"attributes\":{\"axis_label\":\"Subscribers\",\"bounds\":\"auto\",\"formatter\":{\"id\":\"1658\"},\"major_label_orientation\":\"horizontal\",\"ticker\":{\"id\":\"1631\"}},\"id\":\"1630\",\"type\":\"LinearAxis\"},{\"attributes\":{\"callback\":null,\"renderers\":[{\"id\":\"1653\"}],\"tags\":[\"hv_created\"],\"tooltips\":[[\"Years\",\"@{Years}\"],[\"Subscribers\",\"@{Subscribers}\"]]},\"id\":\"1617\",\"type\":\"HoverTool\"},{\"attributes\":{},\"id\":\"1631\",\"type\":\"BasicTicker\"},{\"attributes\":{},\"id\":\"1658\",\"type\":\"BasicTickFormatter\"}],\"root_ids\":[\"1613\"]},\"title\":\"Bokeh Application\",\"version\":\"2.2.3\"}};\n",
       "    var render_items = [{\"docid\":\"9f6a7b8c-76c8-4210-a871-44d59fc178ab\",\"root_ids\":[\"1613\"],\"roots\":{\"1613\":\"c6b7a0c6-ca05-4549-a25b-6fc1910478bc\"}}];\n",
       "    root.Bokeh.embed.embed_items_notebook(docs_json, render_items);\n",
       "  }\n",
       "  if (root.Bokeh !== undefined && root.Bokeh.Panel !== undefined) {\n",
       "    embed_document(root);\n",
       "  } else {\n",
       "    var attempts = 0;\n",
       "    var timer = setInterval(function(root) {\n",
       "      if (root.Bokeh !== undefined && root.Bokeh.Panel !== undefined) {\n",
       "        clearInterval(timer);\n",
       "        embed_document(root);\n",
       "      } else if (document.readyState == \"complete\") {\n",
       "        attempts++;\n",
       "        if (attempts > 100) {\n",
       "          clearInterval(timer);\n",
       "          console.log(\"Bokeh: ERROR: Unable to run BokehJS code because BokehJS library is missing\");\n",
       "        }\n",
       "      }\n",
       "    }, 10, root)\n",
       "  }\n",
       "})(window);</script>"
      ],
      "text/plain": [
       ":Curve   [Years]   (Subscribers)"
      ]
     },
     "execution_count": 32,
     "metadata": {
      "application/vnd.holoviews_exec.v0+json": {
       "id": "1613"
      }
     },
     "output_type": "execute_result"
    }
   ],
   "source": [
    "# Set the index of the DataFrame to Years\n",
    "us_canada_subscribers = us_canada_subscribers.set_index(\"Years\")\n",
    "\n",
    "# Create a line plot of the US and Canada data\n",
    "us_canada_plot = us_canada_subscribers.hvplot.line()\n",
    "\n",
    "# Show the plot\n",
    "us_canada_plot"
   ]
  },
  {
   "cell_type": "code",
   "execution_count": 34,
   "metadata": {},
   "outputs": [
    {
     "data": {
      "text/html": [
       "<div>\n",
       "<style scoped>\n",
       "    .dataframe tbody tr th:only-of-type {\n",
       "        vertical-align: middle;\n",
       "    }\n",
       "\n",
       "    .dataframe tbody tr th {\n",
       "        vertical-align: top;\n",
       "    }\n",
       "\n",
       "    .dataframe thead th {\n",
       "        text-align: right;\n",
       "    }\n",
       "</style>\n",
       "<table border=\"1\" class=\"dataframe\">\n",
       "  <thead>\n",
       "    <tr style=\"text-align: right;\">\n",
       "      <th></th>\n",
       "      <th>Area</th>\n",
       "      <th>Years</th>\n",
       "      <th>Subscribers</th>\n",
       "    </tr>\n",
       "  </thead>\n",
       "  <tbody>\n",
       "    <tr>\n",
       "      <th>35</th>\n",
       "      <td>Asia-Pacific</td>\n",
       "      <td>Q1 - 2020</td>\n",
       "      <td>19835000</td>\n",
       "    </tr>\n",
       "    <tr>\n",
       "      <th>36</th>\n",
       "      <td>United States and Canada</td>\n",
       "      <td>Q2 - 2020</td>\n",
       "      <td>72904000</td>\n",
       "    </tr>\n",
       "    <tr>\n",
       "      <th>37</th>\n",
       "      <td>Europe, Middle East and Africa</td>\n",
       "      <td>Q2 - 2020</td>\n",
       "      <td>61483000</td>\n",
       "    </tr>\n",
       "    <tr>\n",
       "      <th>38</th>\n",
       "      <td>Latin America</td>\n",
       "      <td>Q2 - 2020</td>\n",
       "      <td>36068000</td>\n",
       "    </tr>\n",
       "    <tr>\n",
       "      <th>39</th>\n",
       "      <td>Asia-Pacific</td>\n",
       "      <td>Q2 - 2020</td>\n",
       "      <td>22492000</td>\n",
       "    </tr>\n",
       "  </tbody>\n",
       "</table>\n",
       "</div>"
      ],
      "text/plain": [
       "                              Area      Years  Subscribers\n",
       "35                    Asia-Pacific  Q1 - 2020     19835000\n",
       "36        United States and Canada  Q2 - 2020     72904000\n",
       "37  Europe, Middle East and Africa  Q2 - 2020     61483000\n",
       "38                   Latin America  Q2 - 2020     36068000\n",
       "39                    Asia-Pacific  Q2 - 2020     22492000"
      ]
     },
     "execution_count": 34,
     "metadata": {},
     "output_type": "execute_result"
    }
   ],
   "source": [
    "subscribers_df.tail()"
   ]
  },
  {
   "cell_type": "code",
   "execution_count": 56,
   "metadata": {},
   "outputs": [
    {
     "data": {
      "text/plain": [
       "<AxesSubplot:xlabel='Years'>"
      ]
     },
     "execution_count": 56,
     "metadata": {},
     "output_type": "execute_result"
    },
    {
     "data": {
      "image/png": "[encoded data removed]",
      "text/plain": [
       "<Figure size 1152x432 with 1 Axes>"
      ]
     },
     "metadata": {
      "needs_background": "light"
     },
     "output_type": "display_data"
    }
   ],
   "source": [
    "# Create a DataFrame that slices the subscriber data for the Europe, Middle East and Africa area\n",
    "emea_subscribers =  subscribers_df.query('Area ==  \"Europe, Middle East and Africa\"')\n",
    "\n",
    "# Set the index of the DataFrame to Years\n",
    "emea_subscribers = emea_subscribers.set_index('Years')\n",
    "\n",
    "# Create a line plot of the US and Canada data\n",
    "emea_plot = emea_subscribers.plot.bar(figsize=(16,6))\n",
    "\n",
    "# Show the plot\n",
    "emea_plot"
   ]
  },
  {
   "cell_type": "markdown",
   "metadata": {},
   "source": [
    "## Create a compose plot to visualize the subscriber time series data for the two regions"
   ]
  },
  {
   "cell_type": "code",
   "execution_count": null,
   "metadata": {},
   "outputs": [],
   "source": [
    "# Create a compose plot to visualize the subscriber time series data for the two regions\n",
    "# YOUR CODE HERE"
   ]
  },
  {
   "cell_type": "markdown",
   "metadata": {},
   "source": [
    "## Create an overlay plot for the subcriber time series data"
   ]
  },
  {
   "cell_type": "code",
   "execution_count": null,
   "metadata": {},
   "outputs": [],
   "source": [
    "# Create an overlay plot to visualize the subscriber time series data for the two regions\n",
    "# YOUR CODE HERE"
   ]
  },
  {
   "cell_type": "markdown",
   "metadata": {},
   "source": [
    "**Question:**How does the rate of growth over the time series compare across the two regions?\n",
    "\n",
    "**Answer:** # YOUR ANSWER HERE  "
   ]
  },
  {
   "cell_type": "markdown",
   "metadata": {},
   "source": [
    "## Step 4: Answer the following question:"
   ]
  },
  {
   "cell_type": "markdown",
   "metadata": {},
   "source": [
    "**Question:** Given the information in these visualizations, toward what region would you recommend that advertising dollars be focused?\n",
    "\n",
    "**Answer:** # YOUR ANSWER HERE"
   ]
  },
  {
   "cell_type": "code",
   "execution_count": null,
   "metadata": {},
   "outputs": [],
   "source": []
  }
 ],
 "metadata": {
  "kernel_info": {
   "name": "python3"
  },
  "kernelspec": {
   "display_name": "dev",
   "language": "python",
   "name": "dev"
  },
  "language_info": {
   "codemirror_mode": {
    "name": "ipython",
    "version": 3
   },
   "file_extension": ".py",
   "mimetype": "text/x-python",
   "name": "python",
   "nbconvert_exporter": "python",
   "pygments_lexer": "ipython3",
   "version": "3.7.9"
  },
  "nteract": {
   "version": "0.12.3"
  }
 },
 "nbformat": 4,
 "nbformat_minor": 4
}
